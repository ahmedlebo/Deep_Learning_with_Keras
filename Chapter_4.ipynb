{
 "cells": [
  {
   "cell_type": "markdown",
   "id": "8b5e78bd-d0ce-4010-9db0-c0fc74c97561",
   "metadata": {},
   "source": [
    "## Classifying movie reviews: \n",
    "## A binary classification example"
   ]
  },
  {
   "cell_type": "markdown",
   "id": "0cdacb83-5449-47a3-9ae2-db2a80e14d33",
   "metadata": {},
   "source": [
    "### The IMDB dataset:"
   ]
  },
  {
   "cell_type": "markdown",
   "id": "9f491297-7fa0-41e2-b489-6015c195d060",
   "metadata": {},
   "source": [
    "##### Loading the IMDB dataset "
   ]
  },
  {
   "cell_type": "code",
   "execution_count": 1,
   "id": "a3af6d73-a884-4e3f-a6c7-6ee392ab141b",
   "metadata": {},
   "outputs": [
    {
     "name": "stderr",
     "output_type": "stream",
     "text": [
      "2023-12-22 16:04:43.949089: I tensorflow/core/platform/cpu_feature_guard.cc:182] This TensorFlow binary is optimized to use available CPU instructions in performance-critical operations.\n",
      "To enable the following instructions: SSE4.1 SSE4.2 AVX, in other operations, rebuild TensorFlow with the appropriate compiler flags.\n"
     ]
    }
   ],
   "source": [
    "from tensorflow.keras.datasets import imdb\n",
    "(train_data, train_labels), (test_data, test_labels) = imdb.load_data(num_words=10000)"
   ]
  },
  {
   "cell_type": "code",
   "execution_count": 2,
   "id": "dd531359-a68b-4171-86f0-140b37f9b004",
   "metadata": {},
   "outputs": [
    {
     "data": {
      "text/plain": [
       "[1,\n",
       " 14,\n",
       " 22,\n",
       " 16,\n",
       " 43,\n",
       " 530,\n",
       " 973,\n",
       " 1622,\n",
       " 1385,\n",
       " 65,\n",
       " 458,\n",
       " 4468,\n",
       " 66,\n",
       " 3941,\n",
       " 4,\n",
       " 173,\n",
       " 36,\n",
       " 256,\n",
       " 5,\n",
       " 25,\n",
       " 100,\n",
       " 43,\n",
       " 838,\n",
       " 112,\n",
       " 50,\n",
       " 670,\n",
       " 2,\n",
       " 9,\n",
       " 35,\n",
       " 480,\n",
       " 284,\n",
       " 5,\n",
       " 150,\n",
       " 4,\n",
       " 172,\n",
       " 112,\n",
       " 167,\n",
       " 2,\n",
       " 336,\n",
       " 385,\n",
       " 39,\n",
       " 4,\n",
       " 172,\n",
       " 4536,\n",
       " 1111,\n",
       " 17,\n",
       " 546,\n",
       " 38,\n",
       " 13,\n",
       " 447,\n",
       " 4,\n",
       " 192,\n",
       " 50,\n",
       " 16,\n",
       " 6,\n",
       " 147,\n",
       " 2025,\n",
       " 19,\n",
       " 14,\n",
       " 22,\n",
       " 4,\n",
       " 1920,\n",
       " 4613,\n",
       " 469,\n",
       " 4,\n",
       " 22,\n",
       " 71,\n",
       " 87,\n",
       " 12,\n",
       " 16,\n",
       " 43,\n",
       " 530,\n",
       " 38,\n",
       " 76,\n",
       " 15,\n",
       " 13,\n",
       " 1247,\n",
       " 4,\n",
       " 22,\n",
       " 17,\n",
       " 515,\n",
       " 17,\n",
       " 12,\n",
       " 16,\n",
       " 626,\n",
       " 18,\n",
       " 2,\n",
       " 5,\n",
       " 62,\n",
       " 386,\n",
       " 12,\n",
       " 8,\n",
       " 316,\n",
       " 8,\n",
       " 106,\n",
       " 5,\n",
       " 4,\n",
       " 2223,\n",
       " 5244,\n",
       " 16,\n",
       " 480,\n",
       " 66,\n",
       " 3785,\n",
       " 33,\n",
       " 4,\n",
       " 130,\n",
       " 12,\n",
       " 16,\n",
       " 38,\n",
       " 619,\n",
       " 5,\n",
       " 25,\n",
       " 124,\n",
       " 51,\n",
       " 36,\n",
       " 135,\n",
       " 48,\n",
       " 25,\n",
       " 1415,\n",
       " 33,\n",
       " 6,\n",
       " 22,\n",
       " 12,\n",
       " 215,\n",
       " 28,\n",
       " 77,\n",
       " 52,\n",
       " 5,\n",
       " 14,\n",
       " 407,\n",
       " 16,\n",
       " 82,\n",
       " 2,\n",
       " 8,\n",
       " 4,\n",
       " 107,\n",
       " 117,\n",
       " 5952,\n",
       " 15,\n",
       " 256,\n",
       " 4,\n",
       " 2,\n",
       " 7,\n",
       " 3766,\n",
       " 5,\n",
       " 723,\n",
       " 36,\n",
       " 71,\n",
       " 43,\n",
       " 530,\n",
       " 476,\n",
       " 26,\n",
       " 400,\n",
       " 317,\n",
       " 46,\n",
       " 7,\n",
       " 4,\n",
       " 2,\n",
       " 1029,\n",
       " 13,\n",
       " 104,\n",
       " 88,\n",
       " 4,\n",
       " 381,\n",
       " 15,\n",
       " 297,\n",
       " 98,\n",
       " 32,\n",
       " 2071,\n",
       " 56,\n",
       " 26,\n",
       " 141,\n",
       " 6,\n",
       " 194,\n",
       " 7486,\n",
       " 18,\n",
       " 4,\n",
       " 226,\n",
       " 22,\n",
       " 21,\n",
       " 134,\n",
       " 476,\n",
       " 26,\n",
       " 480,\n",
       " 5,\n",
       " 144,\n",
       " 30,\n",
       " 5535,\n",
       " 18,\n",
       " 51,\n",
       " 36,\n",
       " 28,\n",
       " 224,\n",
       " 92,\n",
       " 25,\n",
       " 104,\n",
       " 4,\n",
       " 226,\n",
       " 65,\n",
       " 16,\n",
       " 38,\n",
       " 1334,\n",
       " 88,\n",
       " 12,\n",
       " 16,\n",
       " 283,\n",
       " 5,\n",
       " 16,\n",
       " 4472,\n",
       " 113,\n",
       " 103,\n",
       " 32,\n",
       " 15,\n",
       " 16,\n",
       " 5345,\n",
       " 19,\n",
       " 178,\n",
       " 32]"
      ]
     },
     "execution_count": 2,
     "metadata": {},
     "output_type": "execute_result"
    }
   ],
   "source": [
    "## The variables train_data and test_data are lists of reviews; each review is a list of word indices (encoding a sequence of words)\n",
    "train_data[0]"
   ]
  },
  {
   "cell_type": "code",
   "execution_count": 3,
   "id": "257015b8-a6e5-4137-8878-9d26234b2944",
   "metadata": {},
   "outputs": [
    {
     "data": {
      "text/plain": [
       "1"
      ]
     },
     "execution_count": 3,
     "metadata": {},
     "output_type": "execute_result"
    }
   ],
   "source": [
    "## train_labels and test_labels are lists of 0s and 1s, where 0 stands for negative and 1 stands for positive\n",
    "train_labels[0]"
   ]
  },
  {
   "cell_type": "code",
   "execution_count": 4,
   "id": "fdf9564f-9c4a-49c5-a9cf-2e2991094a39",
   "metadata": {},
   "outputs": [
    {
     "data": {
      "text/plain": [
       "9999"
      ]
     },
     "execution_count": 4,
     "metadata": {},
     "output_type": "execute_result"
    }
   ],
   "source": [
    "max([max(sequence) for sequence in train_data])"
   ]
  },
  {
   "cell_type": "markdown",
   "id": "5ff1e43b-06de-429e-b3c6-34836bc062eb",
   "metadata": {},
   "source": [
    "##### Decoding reviews back to text"
   ]
  },
  {
   "cell_type": "code",
   "execution_count": 5,
   "id": "b6bae1f5-8727-472f-bcaf-a82186a18773",
   "metadata": {},
   "outputs": [],
   "source": [
    "word_index = imdb.get_word_index() # word_index is a dictionary mapping words to an integer index.\n",
    "# Reverses it, mapping integer indices to words\n",
    "reverse_word_index = dict([(value, key) for (key, value) in word_index.items()]) \n",
    "# Decodes the review. Note that the indices are offset by 3 because \n",
    "# 0, 1, and 2 are reserved indices for “padding,” “start of sequence,” and “unknown.”\n",
    "decoded_review = \" \".join([reverse_word_index.get(i - 3, \"?\") for i in train_data[0]])"
   ]
  },
  {
   "cell_type": "code",
   "execution_count": 6,
   "id": "20f85576-2e48-4e41-98ba-d2eb50ae8251",
   "metadata": {},
   "outputs": [
    {
     "data": {
      "text/plain": [
       "\"? this film was just brilliant casting location scenery story direction everyone's really suited the part they played and you could just imagine being there robert ? is an amazing actor and now the same being director ? father came from the same scottish island as myself so i loved the fact there was a real connection with this film the witty remarks throughout the film were great it was just brilliant so much that i bought the film as soon as it was released for ? and would recommend it to everyone to watch and the fly fishing was amazing really cried at the end it was so sad and you know what they say if you cry at a film it must have been good and this definitely was also ? to the two little boy's that played the ? of norman and paul they were just brilliant children are often left out of the ? list i think because the stars that play them all grown up are such a big profile for the whole film but these children are amazing and should be praised for what they have done don't you think the whole story was so lovely because it was true and was someone's life after all that was shared with us all\""
      ]
     },
     "execution_count": 6,
     "metadata": {},
     "output_type": "execute_result"
    }
   ],
   "source": [
    "decoded_review"
   ]
  },
  {
   "cell_type": "markdown",
   "id": "7a843658-a894-49f7-9b90-fcd01b349577",
   "metadata": {},
   "source": [
    "##### Preparing the data:"
   ]
  },
  {
   "cell_type": "markdown",
   "id": "ae02ed3d-bc61-40a0-bd71-9f21525460eb",
   "metadata": {},
   "source": [
    "###### Encoding the integer sequences via multi-hot encoding:"
   ]
  },
  {
   "cell_type": "code",
   "execution_count": 7,
   "id": "a6a5546c-3858-4cd1-9f19-fff28b6741ab",
   "metadata": {},
   "outputs": [],
   "source": [
    "import numpy as np\n",
    "def vectorize_sequences(sequences, dimension=10000):\n",
    "    results = np.zeros((len(sequences), dimension)) # Creates an all-zero matrix of shape (len(sequences), dimension)\n",
    "    for i, sequence in enumerate(sequences): \n",
    "        for j in sequence:\n",
    "            results[i, j] = 1. #Sets specific indices of results[i] to 1s\n",
    "    return results\n",
    "    "
   ]
  },
  {
   "cell_type": "code",
   "execution_count": 8,
   "id": "056aeb16-5490-4b51-a956-9f2c9135d7c2",
   "metadata": {},
   "outputs": [],
   "source": [
    "x_train = vectorize_sequences(train_data)\n",
    "x_test = vectorize_sequences(test_data)"
   ]
  },
  {
   "cell_type": "code",
   "execution_count": 9,
   "id": "33ee24ab-a68f-4add-92cb-4525bde63be9",
   "metadata": {},
   "outputs": [
    {
     "data": {
      "text/plain": [
       "array([0., 1., 1., ..., 0., 0., 0.])"
      ]
     },
     "execution_count": 9,
     "metadata": {},
     "output_type": "execute_result"
    }
   ],
   "source": [
    "x_train[0]"
   ]
  },
  {
   "cell_type": "code",
   "execution_count": 10,
   "id": "358a6c7a-0e74-49e8-9b43-1ca064b249d3",
   "metadata": {},
   "outputs": [],
   "source": [
    "y_train = np.asarray(train_labels).astype(\"float32\")\n",
    "y_test = np.asarray(test_labels).astype(\"float32\")"
   ]
  },
  {
   "cell_type": "code",
   "execution_count": null,
   "id": "fb1319c6-b6e2-4577-ad7a-e607982b823e",
   "metadata": {},
   "outputs": [],
   "source": []
  },
  {
   "cell_type": "markdown",
   "id": "3f125eb2-a381-40df-bc17-f6252c00479b",
   "metadata": {},
   "source": [
    "##### Building your model:"
   ]
  },
  {
   "cell_type": "code",
   "execution_count": 14,
   "id": "f95e1877-307f-41be-93a2-710578f3b7f5",
   "metadata": {},
   "outputs": [],
   "source": [
    "from tensorflow import keras\n",
    "from tensorflow.keras import layers"
   ]
  },
  {
   "cell_type": "code",
   "execution_count": 16,
   "id": "d8c9c96e-a4d1-4613-ac1d-a63a5699642f",
   "metadata": {},
   "outputs": [],
   "source": [
    "model = keras.Sequential([\n",
    "    layers.Dense(16,activation=\"relu\"),\n",
    "    layers.Dense(16,activation=\"relu\"),\n",
    "    layers.Dense(1, activation=\"sigmoid\")\n",
    "])"
   ]
  },
  {
   "cell_type": "code",
   "execution_count": 17,
   "id": "7d082f7d-3590-413b-b793-445b9a1fe936",
   "metadata": {},
   "outputs": [],
   "source": [
    "model.compile(\n",
    "    optimizer=\"rmsprop\",\n",
    "    loss = \"binary_crossentropy\",\n",
    "    metrics=[\"accuracy\"]\n",
    ")"
   ]
  },
  {
   "cell_type": "markdown",
   "id": "b41ba77c-4055-469a-b9d3-586c8c2f5714",
   "metadata": {},
   "source": [
    "##### Validating your approach:"
   ]
  },
  {
   "cell_type": "code",
   "execution_count": 18,
   "id": "0d620c2d-55e0-4176-9503-d00000a01f7f",
   "metadata": {},
   "outputs": [],
   "source": [
    "x_val = x_train[:10000]\n",
    "partial_x_train = x_train[10000:]\n",
    "y_val = y_train[:10000]\n",
    "partial_y_train = y_train[10000:]"
   ]
  },
  {
   "cell_type": "code",
   "execution_count": 19,
   "id": "b1be3642-5ef7-4e95-b2c9-7b03ab698851",
   "metadata": {},
   "outputs": [
    {
     "name": "stdout",
     "output_type": "stream",
     "text": [
      "Epoch 1/20\n",
      "30/30 [==============================] - 3s 55ms/step - loss: 0.5129 - accuracy: 0.7819 - val_loss: 0.3934 - val_accuracy: 0.8602\n",
      "Epoch 2/20\n",
      "30/30 [==============================] - 1s 28ms/step - loss: 0.3180 - accuracy: 0.8944 - val_loss: 0.3103 - val_accuracy: 0.8843\n",
      "Epoch 3/20\n",
      "30/30 [==============================] - 1s 27ms/step - loss: 0.2428 - accuracy: 0.9183 - val_loss: 0.2867 - val_accuracy: 0.8879\n",
      "Epoch 4/20\n",
      "30/30 [==============================] - 1s 27ms/step - loss: 0.1973 - accuracy: 0.9336 - val_loss: 0.3173 - val_accuracy: 0.8717\n",
      "Epoch 5/20\n",
      "30/30 [==============================] - 1s 27ms/step - loss: 0.1663 - accuracy: 0.9460 - val_loss: 0.2795 - val_accuracy: 0.8873\n",
      "Epoch 6/20\n",
      "30/30 [==============================] - 1s 28ms/step - loss: 0.1424 - accuracy: 0.9533 - val_loss: 0.2963 - val_accuracy: 0.8848\n",
      "Epoch 7/20\n",
      "30/30 [==============================] - 1s 29ms/step - loss: 0.1238 - accuracy: 0.9611 - val_loss: 0.2972 - val_accuracy: 0.8827\n",
      "Epoch 8/20\n",
      "30/30 [==============================] - 1s 28ms/step - loss: 0.1055 - accuracy: 0.9677 - val_loss: 0.3046 - val_accuracy: 0.8843\n",
      "Epoch 9/20\n",
      "30/30 [==============================] - 1s 29ms/step - loss: 0.0931 - accuracy: 0.9725 - val_loss: 0.3185 - val_accuracy: 0.8797\n",
      "Epoch 10/20\n",
      "30/30 [==============================] - 1s 29ms/step - loss: 0.0800 - accuracy: 0.9789 - val_loss: 0.3416 - val_accuracy: 0.8773\n",
      "Epoch 11/20\n",
      "30/30 [==============================] - 1s 28ms/step - loss: 0.0699 - accuracy: 0.9820 - val_loss: 0.3727 - val_accuracy: 0.8776\n",
      "Epoch 12/20\n",
      "30/30 [==============================] - 1s 30ms/step - loss: 0.0631 - accuracy: 0.9845 - val_loss: 0.3728 - val_accuracy: 0.8784\n",
      "Epoch 13/20\n",
      "30/30 [==============================] - 1s 27ms/step - loss: 0.0520 - accuracy: 0.9873 - val_loss: 0.3934 - val_accuracy: 0.8768\n",
      "Epoch 14/20\n",
      "30/30 [==============================] - 1s 27ms/step - loss: 0.0454 - accuracy: 0.9904 - val_loss: 0.4131 - val_accuracy: 0.8751\n",
      "Epoch 15/20\n",
      "30/30 [==============================] - 1s 28ms/step - loss: 0.0399 - accuracy: 0.9929 - val_loss: 0.4430 - val_accuracy: 0.8703\n",
      "Epoch 16/20\n",
      "30/30 [==============================] - 1s 27ms/step - loss: 0.0340 - accuracy: 0.9929 - val_loss: 0.4589 - val_accuracy: 0.8744\n",
      "Epoch 17/20\n",
      "30/30 [==============================] - 1s 27ms/step - loss: 0.0324 - accuracy: 0.9933 - val_loss: 0.4831 - val_accuracy: 0.8724\n",
      "Epoch 18/20\n",
      "30/30 [==============================] - 1s 27ms/step - loss: 0.0219 - accuracy: 0.9975 - val_loss: 0.5879 - val_accuracy: 0.8611\n",
      "Epoch 19/20\n",
      "30/30 [==============================] - 1s 28ms/step - loss: 0.0226 - accuracy: 0.9965 - val_loss: 0.5644 - val_accuracy: 0.8677\n",
      "Epoch 20/20\n",
      "30/30 [==============================] - 1s 27ms/step - loss: 0.0198 - accuracy: 0.9971 - val_loss: 0.5497 - val_accuracy: 0.8703\n"
     ]
    }
   ],
   "source": [
    "history = model.fit(\n",
    "    partial_x_train,\n",
    "    partial_y_train,\n",
    "    epochs = 20,\n",
    "    batch_size= 512,\n",
    "    validation_data=(x_val,y_val)\n",
    "\n",
    ")"
   ]
  },
  {
   "cell_type": "code",
   "execution_count": 20,
   "id": "b9c753e3-7a4a-4523-b1b3-ba5d119ce9ff",
   "metadata": {},
   "outputs": [
    {
     "data": {
      "text/plain": [
       "dict_keys(['loss', 'accuracy', 'val_loss', 'val_accuracy'])"
      ]
     },
     "execution_count": 20,
     "metadata": {},
     "output_type": "execute_result"
    }
   ],
   "source": [
    "history_dict = history.history\n",
    "history_dict.keys()"
   ]
  },
  {
   "cell_type": "code",
   "execution_count": 22,
   "id": "e7f1533a-7711-48d6-b3e9-236bc4cce84e",
   "metadata": {},
   "outputs": [
    {
     "data": {
      "image/png": "[encoded data removed]",
      "text/plain": [
       "<Figure size 640x480 with 1 Axes>"
      ]
     },
     "metadata": {},
     "output_type": "display_data"
    }
   ],
   "source": [
    "import matplotlib.pyplot as plt\n",
    "loss_values = history_dict[\"loss\"]\n",
    "val_loss_values = history_dict[\"val_loss\"]\n",
    "epochs = range(1,len(loss_values)+1)\n",
    "plt.plot(epochs, loss_values, \"bo\", label=\"Training loss\")\n",
    "plt.plot(epochs, val_loss_values, \"b\", label=\"Validation loss\")\n",
    "plt.title(\"Training and validation loss\")\n",
    "plt.xlabel(\"Epochs\")\n",
    "plt.ylabel(\"Loss\")\n",
    "plt.legend(loc=\"best\")\n",
    "plt.show()"
   ]
  },
  {
   "cell_type": "code",
   "execution_count": 23,
   "id": "39ad50ba-f77f-49af-8a56-4df4951ff008",
   "metadata": {},
   "outputs": [
    {
     "data": {
      "image/png": "[encoded data removed]",
      "text/plain": [
       "<Figure size 640x480 with 1 Axes>"
      ]
     },
     "metadata": {},
     "output_type": "display_data"
    }
   ],
   "source": [
    "acc = history_dict[\"accuracy\"]\n",
    "val_acc = history_dict[\"val_accuracy\"]\n",
    "plt.plot(epochs, acc, \"bo\", label=\"Training acc\")\n",
    "plt.plot(epochs, val_acc, \"b\", label=\"Validation acc\")\n",
    "plt.title(\"Training and validation accuracy\")\n",
    "plt.xlabel(\"Epochs\")\n",
    "plt.ylabel(\"Accuracy\")\n",
    "plt.legend()\n",
    "plt.show()"
   ]
  },
  {
   "cell_type": "code",
   "execution_count": 34,
   "id": "df8a3077-ef19-4510-9bad-87732b1ac12d",
   "metadata": {},
   "outputs": [],
   "source": [
    "model = keras.Sequential([\n",
    "    layers.Dense(16,activation=\"relu\"),\n",
    "    layers.Dense(16,activation=\"relu\"),\n",
    "    layers.Dense(1, activation=\"sigmoid\")\n",
    "])\n",
    "model.compile(optimizer=\"rmsprop\",\n",
    "              loss=\"binary_crossentropy\",\n",
    "              metrics=[\"accuracy\"])"
   ]
  },
  {
   "cell_type": "code",
   "execution_count": 35,
   "id": "396a76ee-be3f-4b32-ae48-8caddae25a6e",
   "metadata": {},
   "outputs": [
    {
     "name": "stdout",
     "output_type": "stream",
     "text": [
      "Epoch 1/3\n",
      "49/49 [==============================] - 2s 19ms/step - loss: 0.4567 - accuracy: 0.8104\n",
      "Epoch 2/3\n",
      "49/49 [==============================] - 1s 19ms/step - loss: 0.2648 - accuracy: 0.9050\n",
      "Epoch 3/3\n",
      "49/49 [==============================] - 1s 19ms/step - loss: 0.2088 - accuracy: 0.9255\n",
      "782/782 [==============================] - 2s 2ms/step - loss: 0.2965 - accuracy: 0.8796\n"
     ]
    }
   ],
   "source": [
    "model.fit(x_train, y_train, epochs=3, batch_size=512)\n",
    "results = model.evaluate(x_test, y_test)\n"
   ]
  },
  {
   "cell_type": "code",
   "execution_count": 36,
   "id": "3a05818d-2044-4762-8bd5-b8d9d6620887",
   "metadata": {},
   "outputs": [
    {
     "data": {
      "text/plain": [
       "[0.2964628040790558, 0.8796399831771851]"
      ]
     },
     "execution_count": 36,
     "metadata": {},
     "output_type": "execute_result"
    }
   ],
   "source": [
    "results"
   ]
  },
  {
   "cell_type": "code",
   "execution_count": 37,
   "id": "2f86d1a0-f87d-498a-ab7f-0657df3a02b3",
   "metadata": {},
   "outputs": [
    {
     "name": "stdout",
     "output_type": "stream",
     "text": [
      "782/782 [==============================] - 2s 2ms/step\n"
     ]
    },
    {
     "data": {
      "text/plain": [
       "array([[0.2946649 ],\n",
       "       [0.9994972 ],\n",
       "       [0.955378  ],\n",
       "       ...,\n",
       "       [0.19517422],\n",
       "       [0.15732417],\n",
       "       [0.61473674]], dtype=float32)"
      ]
     },
     "execution_count": 37,
     "metadata": {},
     "output_type": "execute_result"
    }
   ],
   "source": [
    "model.predict(x_test)"
   ]
  },
  {
   "cell_type": "code",
   "execution_count": null,
   "id": "144c52f7-2bc9-4567-b2f3-b3aaa067053a",
   "metadata": {},
   "outputs": [],
   "source": [
    "# We will try:\n",
    "# 1) Different number of layers\n",
    "# 2) Different number of neurons in layers (64 instead of 32)\n",
    "# 3) Other Activation functions"
   ]
  },
  {
   "cell_type": "code",
   "execution_count": null,
   "id": "1e7fee3d-675d-434d-830f-643c75be3b61",
   "metadata": {},
   "outputs": [],
   "source": []
  },
  {
   "cell_type": "markdown",
   "id": "12791378-8ba6-4c22-8a71-7e50d442b69d",
   "metadata": {},
   "source": [
    "## A multiclass classification example\n",
    "## Classifying newswires"
   ]
  },
  {
   "cell_type": "markdown",
   "id": "f55ee899-a5f9-44c5-8524-060b83dd5667",
   "metadata": {},
   "source": [
    "### The Reuters dataset:"
   ]
  },
  {
   "cell_type": "code",
   "execution_count": 38,
   "id": "a02a3c52-329c-482f-a579-99999c7c3de6",
   "metadata": {},
   "outputs": [
    {
     "name": "stdout",
     "output_type": "stream",
     "text": [
      "Downloading data from https://storage.googleapis.com/tensorflow/tf-keras-datasets/reuters.npz\n",
      "2110848/2110848 [==============================] - 1s 0us/step\n"
     ]
    }
   ],
   "source": [
    "from tensorflow.keras.datasets import reuters \n",
    "(train_data,train_labels),(test_data,test_labels) = reuters.load_data(num_words =10000)"
   ]
  },
  {
   "cell_type": "code",
   "execution_count": 39,
   "id": "b8dc61c0-4372-4124-8575-e9d2ef9f24f2",
   "metadata": {},
   "outputs": [
    {
     "data": {
      "text/plain": [
       "8982"
      ]
     },
     "execution_count": 39,
     "metadata": {},
     "output_type": "execute_result"
    }
   ],
   "source": [
    "len(train_data)"
   ]
  },
  {
   "cell_type": "code",
   "execution_count": 41,
   "id": "21ea609f-2a3b-48ed-b40f-295714ee5c65",
   "metadata": {},
   "outputs": [
    {
     "data": {
      "text/plain": [
       "2246"
      ]
     },
     "execution_count": 41,
     "metadata": {},
     "output_type": "execute_result"
    }
   ],
   "source": [
    "len(test_data)"
   ]
  },
  {
   "cell_type": "code",
   "execution_count": 42,
   "id": "e5a49bb0-b816-4cc6-8d3a-4487ca4b5cd0",
   "metadata": {
    "scrolled": true
   },
   "outputs": [
    {
     "data": {
      "text/plain": [
       "[1,\n",
       " 2,\n",
       " 2,\n",
       " 8,\n",
       " 43,\n",
       " 10,\n",
       " 447,\n",
       " 5,\n",
       " 25,\n",
       " 207,\n",
       " 270,\n",
       " 5,\n",
       " 3095,\n",
       " 111,\n",
       " 16,\n",
       " 369,\n",
       " 186,\n",
       " 90,\n",
       " 67,\n",
       " 7,\n",
       " 89,\n",
       " 5,\n",
       " 19,\n",
       " 102,\n",
       " 6,\n",
       " 19,\n",
       " 124,\n",
       " 15,\n",
       " 90,\n",
       " 67,\n",
       " 84,\n",
       " 22,\n",
       " 482,\n",
       " 26,\n",
       " 7,\n",
       " 48,\n",
       " 4,\n",
       " 49,\n",
       " 8,\n",
       " 864,\n",
       " 39,\n",
       " 209,\n",
       " 154,\n",
       " 6,\n",
       " 151,\n",
       " 6,\n",
       " 83,\n",
       " 11,\n",
       " 15,\n",
       " 22,\n",
       " 155,\n",
       " 11,\n",
       " 15,\n",
       " 7,\n",
       " 48,\n",
       " 9,\n",
       " 4579,\n",
       " 1005,\n",
       " 504,\n",
       " 6,\n",
       " 258,\n",
       " 6,\n",
       " 272,\n",
       " 11,\n",
       " 15,\n",
       " 22,\n",
       " 134,\n",
       " 44,\n",
       " 11,\n",
       " 15,\n",
       " 16,\n",
       " 8,\n",
       " 197,\n",
       " 1245,\n",
       " 90,\n",
       " 67,\n",
       " 52,\n",
       " 29,\n",
       " 209,\n",
       " 30,\n",
       " 32,\n",
       " 132,\n",
       " 6,\n",
       " 109,\n",
       " 15,\n",
       " 17,\n",
       " 12]"
      ]
     },
     "execution_count": 42,
     "metadata": {},
     "output_type": "execute_result"
    }
   ],
   "source": [
    "train_data[0]"
   ]
  },
  {
   "cell_type": "code",
   "execution_count": null,
   "id": "46420a4f-48b3-445b-8a24-05a9620421a4",
   "metadata": {},
   "outputs": [],
   "source": []
  },
  {
   "cell_type": "markdown",
   "id": "aca92150-f9a6-4090-8926-d405c160358e",
   "metadata": {},
   "source": [
    "##### Decoding articles back to text"
   ]
  },
  {
   "cell_type": "code",
   "execution_count": 43,
   "id": "214a850b-ef63-41be-bc58-39d51d0688cf",
   "metadata": {},
   "outputs": [
    {
     "name": "stdout",
     "output_type": "stream",
     "text": [
      "Downloading data from https://storage.googleapis.com/tensorflow/tf-keras-datasets/reuters_word_index.json\n",
      "550378/550378 [==============================] - 1s 1us/step\n"
     ]
    }
   ],
   "source": [
    "word_index = reuters.get_word_index() # word_index is a dictionary mapping words to an integer index.\n",
    "# Reverses it, mapping integer indices to words\n",
    "reverse_word_index = dict([(value, key) for (key, value) in word_index.items()]) \n",
    "# Decodes the review. Note that the indices are offset by 3 because \n",
    "# 0, 1, and 2 are reserved indices for “padding,” “start of sequence,” and “unknown.”\n",
    "decoded_review = \" \".join([reverse_word_index.get(i - 3, \"?\") for i in train_data[0]])"
   ]
  },
  {
   "cell_type": "code",
   "execution_count": 44,
   "id": "0513644c-179e-46aa-95ee-300c22aef276",
   "metadata": {},
   "outputs": [
    {
     "data": {
      "text/plain": [
       "'? ? ? said as a result of its december acquisition of space co it expects earnings per share in 1987 of 1 15 to 1 30 dlrs per share up from 70 cts in 1986 the company said pretax net should rise to nine to 10 mln dlrs from six mln dlrs in 1986 and rental operation revenues to 19 to 22 mln dlrs from 12 5 mln dlrs it said cash flow per share this year should be 2 50 to three dlrs reuter 3'"
      ]
     },
     "execution_count": 44,
     "metadata": {},
     "output_type": "execute_result"
    }
   ],
   "source": [
    "decoded_review"
   ]
  },
  {
   "cell_type": "code",
   "execution_count": 45,
   "id": "e93e6b8f-bc57-4310-9416-468a4e6fdee3",
   "metadata": {},
   "outputs": [
    {
     "data": {
      "text/plain": [
       "3"
      ]
     },
     "execution_count": 45,
     "metadata": {},
     "output_type": "execute_result"
    }
   ],
   "source": [
    "train_labels[0]"
   ]
  },
  {
   "cell_type": "markdown",
   "id": "a66ddb8e-46ec-4794-83bc-e776ef86ac2d",
   "metadata": {},
   "source": [
    "##### Preparing the data:"
   ]
  },
  {
   "cell_type": "markdown",
   "id": "00d13a26-8434-4d76-92e3-7ac28dfbb41d",
   "metadata": {},
   "source": [
    "###### Encoding input data:"
   ]
  },
  {
   "cell_type": "code",
   "execution_count": 46,
   "id": "ea73c43e-bc47-4e28-811b-6a40f4916775",
   "metadata": {},
   "outputs": [],
   "source": [
    "x_train = vectorize_sequences(train_data)\n",
    "x_test = vectorize_sequences(test_data)"
   ]
  },
  {
   "cell_type": "markdown",
   "id": "053ce914-d0f8-4971-8259-13eca2efe42b",
   "metadata": {},
   "source": [
    "###### Encoding labels:"
   ]
  },
  {
   "cell_type": "code",
   "execution_count": 51,
   "id": "55629f53-f62c-446f-b448-1f129ed5ce41",
   "metadata": {},
   "outputs": [],
   "source": [
    "def to_one_hot(labels,dimension=46):\n",
    "    results = np.zeros((len(labels),dimension))\n",
    "    for i,label in enumerate(labels):\n",
    "        results[i,label]=1.0\n",
    "    return results"
   ]
  },
  {
   "cell_type": "code",
   "execution_count": 52,
   "id": "0aa83319-e7e0-4ae8-b149-d4125110ba9d",
   "metadata": {},
   "outputs": [],
   "source": [
    "y_train = to_one_hot(train_labels)\n",
    "y_test = to_one_hot(test_labels)"
   ]
  },
  {
   "cell_type": "code",
   "execution_count": 53,
   "id": "9e9c4aa1-c189-4a6e-b20c-c458487d8910",
   "metadata": {},
   "outputs": [],
   "source": [
    "## Same fumction in keras\n",
    "from tensorflow.keras.utils import to_categorical\n",
    "y_train_keras = to_categorical(train_labels)\n",
    "y_test_keras = to_categorical(test_labels)"
   ]
  },
  {
   "cell_type": "code",
   "execution_count": null,
   "id": "c200db61-8c39-4284-8ba6-8667b37d91f0",
   "metadata": {},
   "outputs": [],
   "source": []
  },
  {
   "cell_type": "markdown",
   "id": "7be57116-7019-4bed-9f14-3ed6f1862295",
   "metadata": {},
   "source": [
    "##### Building Model:"
   ]
  },
  {
   "cell_type": "code",
   "execution_count": 54,
   "id": "dcf429d7-eb80-4a16-b62c-2f6c8c9e5c99",
   "metadata": {},
   "outputs": [],
   "source": [
    "model = keras.Sequential([\n",
    "    layers.Dense(128,activation=\"relu\"),\n",
    "    layers.Dense(64,activation=\"relu\"),\n",
    "    layers.Dense(46,activation= \"softmax\")\n",
    "])"
   ]
  },
  {
   "cell_type": "code",
   "execution_count": 55,
   "id": "17d3075c-26a0-4aa7-ad69-e9f2b3a166a6",
   "metadata": {},
   "outputs": [],
   "source": [
    "model.compile(optimizer=\"rmsprop\",\n",
    "             loss = \"categorical_crossentropy\",\n",
    "             metrics=[\"accuracy\"])"
   ]
  },
  {
   "cell_type": "code",
   "execution_count": 56,
   "id": "10bd773c-fe40-4eb3-844d-1d02579156c3",
   "metadata": {},
   "outputs": [],
   "source": [
    "x_val = x_train[:1000]\n",
    "y_val = y_train_keras[:1000]\n",
    "partial_x_train = x_train[1000:]\n",
    "partial_y_train = y_train_keras[1000:]"
   ]
  },
  {
   "cell_type": "code",
   "execution_count": 57,
   "id": "7e4697ad-1dc3-40d5-840e-7f13a44ae121",
   "metadata": {},
   "outputs": [
    {
     "name": "stdout",
     "output_type": "stream",
     "text": [
      "Epoch 1/20\n",
      "16/16 [==============================] - 3s 114ms/step - loss: 2.5749 - accuracy: 0.5024 - val_loss: 1.6613 - val_accuracy: 0.6480\n",
      "Epoch 2/20\n",
      "16/16 [==============================] - 1s 93ms/step - loss: 1.3953 - accuracy: 0.7067 - val_loss: 1.2658 - val_accuracy: 0.7280\n",
      "Epoch 3/20\n",
      "16/16 [==============================] - 2s 95ms/step - loss: 1.0441 - accuracy: 0.7795 - val_loss: 1.1010 - val_accuracy: 0.7590\n",
      "Epoch 4/20\n",
      "16/16 [==============================] - 2s 97ms/step - loss: 0.8213 - accuracy: 0.8252 - val_loss: 0.9915 - val_accuracy: 0.7930\n",
      "Epoch 5/20\n",
      "16/16 [==============================] - 1s 89ms/step - loss: 0.6533 - accuracy: 0.8638 - val_loss: 0.9492 - val_accuracy: 0.7910\n",
      "Epoch 6/20\n",
      "16/16 [==============================] - 2s 100ms/step - loss: 0.5334 - accuracy: 0.8874 - val_loss: 0.8973 - val_accuracy: 0.8090\n",
      "Epoch 7/20\n",
      "16/16 [==============================] - 2s 101ms/step - loss: 0.4273 - accuracy: 0.9116 - val_loss: 0.8480 - val_accuracy: 0.8170\n",
      "Epoch 8/20\n",
      "16/16 [==============================] - 1s 92ms/step - loss: 0.3565 - accuracy: 0.9268 - val_loss: 0.8469 - val_accuracy: 0.8150\n",
      "Epoch 9/20\n",
      "16/16 [==============================] - 1s 91ms/step - loss: 0.2985 - accuracy: 0.9356 - val_loss: 0.8929 - val_accuracy: 0.8000\n",
      "Epoch 10/20\n",
      "16/16 [==============================] - 2s 99ms/step - loss: 0.2601 - accuracy: 0.9414 - val_loss: 0.9324 - val_accuracy: 0.7930\n",
      "Epoch 11/20\n",
      "16/16 [==============================] - 2s 95ms/step - loss: 0.2192 - accuracy: 0.9490 - val_loss: 0.8559 - val_accuracy: 0.8250\n",
      "Epoch 12/20\n",
      "16/16 [==============================] - 2s 97ms/step - loss: 0.1997 - accuracy: 0.9494 - val_loss: 0.8569 - val_accuracy: 0.8190\n",
      "Epoch 13/20\n",
      "16/16 [==============================] - 2s 97ms/step - loss: 0.1778 - accuracy: 0.9551 - val_loss: 0.9795 - val_accuracy: 0.7980\n",
      "Epoch 14/20\n",
      "16/16 [==============================] - 2s 98ms/step - loss: 0.1667 - accuracy: 0.9536 - val_loss: 0.8605 - val_accuracy: 0.8270\n",
      "Epoch 15/20\n",
      "16/16 [==============================] - 2s 99ms/step - loss: 0.1549 - accuracy: 0.9549 - val_loss: 0.9020 - val_accuracy: 0.8200\n",
      "Epoch 16/20\n",
      "16/16 [==============================] - 1s 93ms/step - loss: 0.1431 - accuracy: 0.9560 - val_loss: 0.8912 - val_accuracy: 0.8220\n",
      "Epoch 17/20\n",
      "16/16 [==============================] - 2s 102ms/step - loss: 0.1361 - accuracy: 0.9575 - val_loss: 0.9224 - val_accuracy: 0.8130\n",
      "Epoch 18/20\n",
      "16/16 [==============================] - 2s 110ms/step - loss: 0.1387 - accuracy: 0.9578 - val_loss: 0.9512 - val_accuracy: 0.8220\n",
      "Epoch 19/20\n",
      "16/16 [==============================] - 2s 104ms/step - loss: 0.1282 - accuracy: 0.9575 - val_loss: 0.9124 - val_accuracy: 0.8100\n",
      "Epoch 20/20\n",
      "16/16 [==============================] - 2s 105ms/step - loss: 0.1216 - accuracy: 0.9574 - val_loss: 0.9702 - val_accuracy: 0.8210\n"
     ]
    }
   ],
   "source": [
    "history = model.fit(\n",
    "    partial_x_train,\n",
    "    partial_y_train,\n",
    "    epochs=20,\n",
    "    batch_size=512,\n",
    "    validation_data=(x_val,y_val)\n",
    ")"
   ]
  },
  {
   "cell_type": "code",
   "execution_count": 58,
   "id": "27964e28-1a17-4ae1-b45e-0c7bf8ba67ac",
   "metadata": {},
   "outputs": [
    {
     "data": {
      "text/plain": [
       "dict_keys(['loss', 'accuracy', 'val_loss', 'val_accuracy'])"
      ]
     },
     "execution_count": 58,
     "metadata": {},
     "output_type": "execute_result"
    }
   ],
   "source": [
    "history_dict = history.history\n",
    "history_dict.keys()"
   ]
  },
  {
   "cell_type": "code",
   "execution_count": 59,
   "id": "39147f68-9a41-4882-8641-0063677322a3",
   "metadata": {},
   "outputs": [
    {
     "data": {
      "image/png": "[encoded data removed]",
      "text/plain": [
       "<Figure size 640x480 with 1 Axes>"
      ]
     },
     "metadata": {},
     "output_type": "display_data"
    }
   ],
   "source": [
    "loss_values = history_dict[\"loss\"]\n",
    "val_loss_values = history_dict[\"val_loss\"]\n",
    "epochs = range(1,len(loss_values)+1)\n",
    "plt.plot(epochs, loss_values, \"bo\", label=\"Training loss\")\n",
    "plt.plot(epochs, val_loss_values, \"b\", label=\"Validation loss\")\n",
    "plt.title(\"Training and validation loss\")\n",
    "plt.xlabel(\"Epochs\")\n",
    "plt.ylabel(\"Loss\")\n",
    "plt.legend(loc=\"best\")\n",
    "plt.show()"
   ]
  },
  {
   "cell_type": "code",
   "execution_count": 60,
   "id": "bd9c79a6-ea58-4dbc-9719-e49f5e432950",
   "metadata": {},
   "outputs": [
    {
     "data": {
      "image/png": "[encoded data removed]",
      "text/plain": [
       "<Figure size 640x480 with 1 Axes>"
      ]
     },
     "metadata": {},
     "output_type": "display_data"
    }
   ],
   "source": [
    "acc = history_dict[\"accuracy\"]\n",
    "val_acc = history_dict[\"val_accuracy\"]\n",
    "plt.plot(epochs, acc, \"bo\", label=\"Training acc\")\n",
    "plt.plot(epochs, val_acc, \"b\", label=\"Validation acc\")\n",
    "plt.title(\"Training and validation accuracy\")\n",
    "plt.xlabel(\"Epochs\")\n",
    "plt.ylabel(\"Accuracy\")\n",
    "plt.legend()\n",
    "plt.show()"
   ]
  },
  {
   "cell_type": "code",
   "execution_count": 65,
   "id": "e468ffc8-f35a-41bc-b6f3-5306438c73c7",
   "metadata": {},
   "outputs": [
    {
     "data": {
      "text/plain": [
       "7"
      ]
     },
     "execution_count": 65,
     "metadata": {},
     "output_type": "execute_result"
    }
   ],
   "source": [
    "np.argmin(val_loss_values)"
   ]
  },
  {
   "cell_type": "code",
   "execution_count": 66,
   "id": "066bdfcf-9ae6-4c8c-a1fb-bfd782ca16ee",
   "metadata": {},
   "outputs": [
    {
     "data": {
      "text/plain": [
       "13"
      ]
     },
     "execution_count": 66,
     "metadata": {},
     "output_type": "execute_result"
    }
   ],
   "source": [
    "np.argmax(val_acc)"
   ]
  },
  {
   "cell_type": "markdown",
   "id": "fa36836e-5f41-4484-9b3b-8172db107429",
   "metadata": {},
   "source": [
    "###### Retrain:"
   ]
  },
  {
   "cell_type": "code",
   "execution_count": 67,
   "id": "8ef362d7-7e93-4f29-8372-fa408b99df58",
   "metadata": {},
   "outputs": [],
   "source": [
    "model = keras.Sequential([\n",
    "    layers.Dense(128,activation=\"relu\"),\n",
    "    layers.Dense(64,activation=\"relu\"),\n",
    "    layers.Dense(46,activation= \"softmax\")\n",
    "])"
   ]
  },
  {
   "cell_type": "code",
   "execution_count": 68,
   "id": "43c06234-f587-4235-ae74-e68faaf988f1",
   "metadata": {},
   "outputs": [],
   "source": [
    "model.compile(optimizer=\"rmsprop\",\n",
    "             loss = \"categorical_crossentropy\",\n",
    "             metrics=[\"accuracy\"])"
   ]
  },
  {
   "cell_type": "code",
   "execution_count": 69,
   "id": "4da7cda9-9102-4c29-a505-4a42f317bc34",
   "metadata": {},
   "outputs": [
    {
     "name": "stdout",
     "output_type": "stream",
     "text": [
      "Epoch 1/7\n",
      "18/18 [==============================] - 2s 84ms/step - loss: 2.3134 - accuracy: 0.5305\n",
      "Epoch 2/7\n",
      "18/18 [==============================] - 2s 96ms/step - loss: 1.2726 - accuracy: 0.7233\n",
      "Epoch 3/7\n",
      "18/18 [==============================] - 2s 88ms/step - loss: 0.9676 - accuracy: 0.7927\n",
      "Epoch 4/7\n",
      "18/18 [==============================] - 1s 82ms/step - loss: 0.7619 - accuracy: 0.8346\n",
      "Epoch 5/7\n",
      "18/18 [==============================] - 1s 82ms/step - loss: 0.5932 - accuracy: 0.8764\n",
      "Epoch 6/7\n",
      "18/18 [==============================] - 2s 87ms/step - loss: 0.4815 - accuracy: 0.8957\n",
      "Epoch 7/7\n",
      "18/18 [==============================] - 2s 91ms/step - loss: 0.3902 - accuracy: 0.9183\n"
     ]
    },
    {
     "data": {
      "text/plain": [
       "<keras.callbacks.History at 0x152ab5090>"
      ]
     },
     "execution_count": 69,
     "metadata": {},
     "output_type": "execute_result"
    }
   ],
   "source": [
    "model.fit(\n",
    "    x_train,\n",
    "    y_train,\n",
    "    epochs=7,\n",
    "    batch_size=512,\n",
    "    \n",
    ")"
   ]
  },
  {
   "cell_type": "code",
   "execution_count": 71,
   "id": "85980ca8-f7c4-428c-a221-a3d7d24b866e",
   "metadata": {},
   "outputs": [
    {
     "name": "stdout",
     "output_type": "stream",
     "text": [
      "71/71 [==============================] - 1s 6ms/step - loss: 0.9232 - accuracy: 0.7898\n"
     ]
    }
   ],
   "source": [
    "results = model.evaluate(x_test, y_test)\n"
   ]
  },
  {
   "cell_type": "code",
   "execution_count": 72,
   "id": "99a703b1-1e4b-45be-a893-f90c31e31c96",
   "metadata": {},
   "outputs": [
    {
     "data": {
      "text/plain": [
       "[0.9232298135757446, 0.7898486256599426]"
      ]
     },
     "execution_count": 72,
     "metadata": {},
     "output_type": "execute_result"
    }
   ],
   "source": [
    "results"
   ]
  },
  {
   "cell_type": "code",
   "execution_count": 73,
   "id": "ea21f847-bc03-4c3d-9b50-0856eb142826",
   "metadata": {},
   "outputs": [
    {
     "data": {
      "text/plain": [
       "0.17809439002671415"
      ]
     },
     "execution_count": 73,
     "metadata": {},
     "output_type": "execute_result"
    }
   ],
   "source": [
    "import copy\n",
    "test_labels_copy = copy.copy(test_labels)\n",
    "np.random.shuffle(test_labels_copy)\n",
    "hits_array = np.array(test_labels) == np.array(test_labels_copy)\n",
    "hits_array.mean()"
   ]
  },
  {
   "cell_type": "code",
   "execution_count": 74,
   "id": "9b5dab47-b435-4717-8b9c-63545cfb4877",
   "metadata": {},
   "outputs": [
    {
     "name": "stdout",
     "output_type": "stream",
     "text": [
      "71/71 [==============================] - 0s 5ms/step\n"
     ]
    }
   ],
   "source": [
    "predictions = model.predict(x_test)\n"
   ]
  },
  {
   "cell_type": "code",
   "execution_count": 75,
   "id": "49f4f8b6-f97c-49c1-9044-b6451f9185a4",
   "metadata": {},
   "outputs": [
    {
     "data": {
      "text/plain": [
       "(46,)"
      ]
     },
     "execution_count": 75,
     "metadata": {},
     "output_type": "execute_result"
    }
   ],
   "source": [
    "predictions[0].shape"
   ]
  },
  {
   "cell_type": "code",
   "execution_count": 76,
   "id": "273ec8a4-f8d9-44b0-978d-91330734cffc",
   "metadata": {},
   "outputs": [
    {
     "data": {
      "text/plain": [
       "0.9999999"
      ]
     },
     "execution_count": 76,
     "metadata": {},
     "output_type": "execute_result"
    }
   ],
   "source": [
    "np.sum(predictions[0])"
   ]
  },
  {
   "cell_type": "code",
   "execution_count": 77,
   "id": "493227c4-8d77-4632-a250-334cb0660db8",
   "metadata": {},
   "outputs": [
    {
     "data": {
      "text/plain": [
       "3"
      ]
     },
     "execution_count": 77,
     "metadata": {},
     "output_type": "execute_result"
    }
   ],
   "source": [
    "np.argmax(predictions[0])"
   ]
  },
  {
   "cell_type": "code",
   "execution_count": 78,
   "id": "2ace2a79-a8cc-4892-a614-0e343d2e09b5",
   "metadata": {},
   "outputs": [
    {
     "data": {
      "text/plain": [
       "3"
      ]
     },
     "execution_count": 78,
     "metadata": {},
     "output_type": "execute_result"
    }
   ],
   "source": [
    "test_labels[0]"
   ]
  },
  {
   "cell_type": "markdown",
   "id": "0c940207-6674-45ac-88f4-dd90f270dc0c",
   "metadata": {},
   "source": [
    "#### A different way to handle the labels and the loss(with categorical outputs):"
   ]
  },
  {
   "cell_type": "code",
   "execution_count": 79,
   "id": "1bae2e7c-5c5b-489b-95dc-53ab0f5dd6c9",
   "metadata": {},
   "outputs": [],
   "source": [
    "y_train = np.array(train_labels)\n",
    "y_test = np.array(test_labels)"
   ]
  },
  {
   "cell_type": "code",
   "execution_count": 80,
   "id": "7ca2ce90-c8bd-45a7-91f1-d941373305f7",
   "metadata": {},
   "outputs": [],
   "source": [
    "model = keras.Sequential([\n",
    "    layers.Dense(128,activation=\"relu\"),\n",
    "    layers.Dense(64,activation=\"relu\"),\n",
    "    layers.Dense(46,activation= \"softmax\")\n",
    "])"
   ]
  },
  {
   "cell_type": "code",
   "execution_count": 83,
   "id": "c19d3caa-e720-44ef-853a-5153551cb1e1",
   "metadata": {},
   "outputs": [],
   "source": [
    "model.compile(optimizer=\"rmsprop\",\n",
    "             loss = \"sparse_categorical_crossentropy\",\n",
    "             metrics=[\"accuracy\"])"
   ]
  },
  {
   "cell_type": "code",
   "execution_count": 84,
   "id": "5699084f-920f-4cd2-8fa9-26192f9e3167",
   "metadata": {},
   "outputs": [],
   "source": [
    "x_val = x_train[:1000]\n",
    "y_val = y_train[:1000]\n",
    "partial_x_train = x_train[1000:]\n",
    "partial_y_train = y_train[1000:]"
   ]
  },
  {
   "cell_type": "code",
   "execution_count": 85,
   "id": "1a362173-7686-4b2d-b7fa-e68a960c6581",
   "metadata": {},
   "outputs": [
    {
     "name": "stdout",
     "output_type": "stream",
     "text": [
      "Epoch 1/20\n",
      "16/16 [==============================] - 3s 121ms/step - loss: 2.4710 - accuracy: 0.5381 - val_loss: 1.5701 - val_accuracy: 0.6740\n",
      "Epoch 2/20\n",
      "16/16 [==============================] - 1s 93ms/step - loss: 1.3255 - accuracy: 0.7207 - val_loss: 1.2302 - val_accuracy: 0.7310\n",
      "Epoch 3/20\n",
      "16/16 [==============================] - 1s 91ms/step - loss: 0.9997 - accuracy: 0.7846 - val_loss: 1.0961 - val_accuracy: 0.7600\n",
      "Epoch 4/20\n",
      "16/16 [==============================] - 2s 98ms/step - loss: 0.7944 - accuracy: 0.8309 - val_loss: 0.9831 - val_accuracy: 0.7870\n",
      "Epoch 5/20\n",
      "16/16 [==============================] - 2s 115ms/step - loss: 0.6416 - accuracy: 0.8649 - val_loss: 0.9255 - val_accuracy: 0.8060\n",
      "Epoch 6/20\n",
      "16/16 [==============================] - 2s 107ms/step - loss: 0.5164 - accuracy: 0.8929 - val_loss: 0.9058 - val_accuracy: 0.8060\n",
      "Epoch 7/20\n",
      "16/16 [==============================] - 2s 104ms/step - loss: 0.4235 - accuracy: 0.9103 - val_loss: 0.8667 - val_accuracy: 0.8250\n",
      "Epoch 8/20\n",
      "16/16 [==============================] - 1s 94ms/step - loss: 0.3569 - accuracy: 0.9236 - val_loss: 0.9356 - val_accuracy: 0.8000\n",
      "Epoch 9/20\n",
      "16/16 [==============================] - 2s 108ms/step - loss: 0.3066 - accuracy: 0.9327 - val_loss: 0.8965 - val_accuracy: 0.8130\n",
      "Epoch 10/20\n",
      "16/16 [==============================] - 2s 99ms/step - loss: 0.2502 - accuracy: 0.9431 - val_loss: 0.8529 - val_accuracy: 0.8180\n",
      "Epoch 11/20\n",
      "16/16 [==============================] - 2s 98ms/step - loss: 0.2235 - accuracy: 0.9478 - val_loss: 0.8860 - val_accuracy: 0.8110\n",
      "Epoch 12/20\n",
      "16/16 [==============================] - 2s 105ms/step - loss: 0.1991 - accuracy: 0.9496 - val_loss: 0.8951 - val_accuracy: 0.8130\n",
      "Epoch 13/20\n",
      "16/16 [==============================] - 2s 108ms/step - loss: 0.1738 - accuracy: 0.9545 - val_loss: 0.8791 - val_accuracy: 0.8110\n",
      "Epoch 14/20\n",
      "16/16 [==============================] - 2s 100ms/step - loss: 0.1638 - accuracy: 0.9530 - val_loss: 0.9505 - val_accuracy: 0.8070\n",
      "Epoch 15/20\n",
      "16/16 [==============================] - 2s 97ms/step - loss: 0.1613 - accuracy: 0.9526 - val_loss: 0.9323 - val_accuracy: 0.8070\n",
      "Epoch 16/20\n",
      "16/16 [==============================] - 2s 99ms/step - loss: 0.1422 - accuracy: 0.9557 - val_loss: 0.9445 - val_accuracy: 0.8170\n",
      "Epoch 17/20\n",
      "16/16 [==============================] - 2s 99ms/step - loss: 0.1377 - accuracy: 0.9553 - val_loss: 0.9319 - val_accuracy: 0.8140\n",
      "Epoch 18/20\n",
      "16/16 [==============================] - 2s 99ms/step - loss: 0.1333 - accuracy: 0.9558 - val_loss: 0.9570 - val_accuracy: 0.8060\n",
      "Epoch 19/20\n",
      "16/16 [==============================] - 2s 96ms/step - loss: 0.1284 - accuracy: 0.9572 - val_loss: 1.0174 - val_accuracy: 0.8040\n",
      "Epoch 20/20\n",
      "16/16 [==============================] - 2s 101ms/step - loss: 0.1248 - accuracy: 0.9580 - val_loss: 1.0272 - val_accuracy: 0.8070\n"
     ]
    }
   ],
   "source": [
    "history = model.fit(\n",
    "    partial_x_train,\n",
    "    partial_y_train,\n",
    "    epochs=20,\n",
    "    batch_size=512,\n",
    "    validation_data=(x_val,y_val)\n",
    ")"
   ]
  },
  {
   "cell_type": "code",
   "execution_count": 86,
   "id": "5afa4ef2-6a50-4d23-9f63-c6f5667ee372",
   "metadata": {},
   "outputs": [
    {
     "data": {
      "text/plain": [
       "dict_keys(['loss', 'accuracy', 'val_loss', 'val_accuracy'])"
      ]
     },
     "execution_count": 86,
     "metadata": {},
     "output_type": "execute_result"
    }
   ],
   "source": [
    "history_dict = history.history\n",
    "history_dict.keys()"
   ]
  },
  {
   "cell_type": "code",
   "execution_count": 87,
   "id": "3e442b6d-3aa8-48f6-a4df-8f1609eb3f79",
   "metadata": {},
   "outputs": [
    {
     "data": {
      "image/png": "[encoded data removed]",
      "text/plain": [
       "<Figure size 640x480 with 1 Axes>"
      ]
     },
     "metadata": {},
     "output_type": "display_data"
    }
   ],
   "source": [
    "loss_values = history_dict[\"loss\"]\n",
    "val_loss_values = history_dict[\"val_loss\"]\n",
    "epochs = range(1,len(loss_values)+1)\n",
    "plt.plot(epochs, loss_values, \"bo\", label=\"Training loss\")\n",
    "plt.plot(epochs, val_loss_values, \"b\", label=\"Validation loss\")\n",
    "plt.title(\"Training and validation loss\")\n",
    "plt.xlabel(\"Epochs\")\n",
    "plt.ylabel(\"Loss\")\n",
    "plt.legend(loc=\"best\")\n",
    "plt.show()"
   ]
  },
  {
   "cell_type": "code",
   "execution_count": 88,
   "id": "bbdcb676-cdc8-4d04-9cf7-d042fc8189b9",
   "metadata": {},
   "outputs": [
    {
     "data": {
      "image/png": "[encoded data removed]",
      "text/plain": [
       "<Figure size 640x480 with 1 Axes>"
      ]
     },
     "metadata": {},
     "output_type": "display_data"
    }
   ],
   "source": [
    "acc = history_dict[\"accuracy\"]\n",
    "val_acc = history_dict[\"val_accuracy\"]\n",
    "plt.plot(epochs, acc, \"bo\", label=\"Training acc\")\n",
    "plt.plot(epochs, val_acc, \"b\", label=\"Validation acc\")\n",
    "plt.title(\"Training and validation accuracy\")\n",
    "plt.xlabel(\"Epochs\")\n",
    "plt.ylabel(\"Accuracy\")\n",
    "plt.legend()\n",
    "plt.show()"
   ]
  },
  {
   "cell_type": "code",
   "execution_count": 89,
   "id": "13a9d4c2-912a-46c0-a5d8-3eea493c8ef7",
   "metadata": {},
   "outputs": [
    {
     "data": {
      "text/plain": [
       "9"
      ]
     },
     "execution_count": 89,
     "metadata": {},
     "output_type": "execute_result"
    }
   ],
   "source": [
    "np.argmin(val_loss_values)"
   ]
  },
  {
   "cell_type": "code",
   "execution_count": 90,
   "id": "67c7dce2-6d2d-4b78-b8cc-9e87157bf277",
   "metadata": {},
   "outputs": [
    {
     "data": {
      "text/plain": [
       "6"
      ]
     },
     "execution_count": 90,
     "metadata": {},
     "output_type": "execute_result"
    }
   ],
   "source": [
    "np.argmax(val_acc)"
   ]
  },
  {
   "cell_type": "code",
   "execution_count": 91,
   "id": "7f921c06-f3bf-4e35-a183-55047e7e5617",
   "metadata": {},
   "outputs": [],
   "source": [
    "model = keras.Sequential([\n",
    "    layers.Dense(128,activation=\"relu\"),\n",
    "    layers.Dense(64,activation=\"relu\"),\n",
    "    layers.Dense(46,activation= \"softmax\")\n",
    "])"
   ]
  },
  {
   "cell_type": "code",
   "execution_count": 92,
   "id": "ba6981da-2a45-4ddc-8872-07b411abca3e",
   "metadata": {},
   "outputs": [],
   "source": [
    "model.compile(optimizer=\"rmsprop\",\n",
    "             loss = \"sparse_categorical_crossentropy\",\n",
    "             metrics=[\"accuracy\"])"
   ]
  },
  {
   "cell_type": "code",
   "execution_count": 93,
   "id": "fb7429c0-0c18-43f5-9613-839200310554",
   "metadata": {},
   "outputs": [
    {
     "name": "stdout",
     "output_type": "stream",
     "text": [
      "Epoch 1/9\n",
      "18/18 [==============================] - 3s 86ms/step - loss: 2.2672 - accuracy: 0.5570\n",
      "Epoch 2/9\n",
      "18/18 [==============================] - 2s 87ms/step - loss: 1.2145 - accuracy: 0.7405\n",
      "Epoch 3/9\n",
      "18/18 [==============================] - 2s 94ms/step - loss: 0.9097 - accuracy: 0.8037\n",
      "Epoch 4/9\n",
      "18/18 [==============================] - 2s 91ms/step - loss: 0.7112 - accuracy: 0.8461\n",
      "Epoch 5/9\n",
      "18/18 [==============================] - 2s 90ms/step - loss: 0.5545 - accuracy: 0.8870\n",
      "Epoch 6/9\n",
      "18/18 [==============================] - 2s 88ms/step - loss: 0.4428 - accuracy: 0.9037\n",
      "Epoch 7/9\n",
      "18/18 [==============================] - 2s 89ms/step - loss: 0.3614 - accuracy: 0.9221\n",
      "Epoch 8/9\n",
      "18/18 [==============================] - 2s 101ms/step - loss: 0.3051 - accuracy: 0.9332\n",
      "Epoch 9/9\n",
      "18/18 [==============================] - 2s 97ms/step - loss: 0.2568 - accuracy: 0.9415\n"
     ]
    },
    {
     "data": {
      "text/plain": [
       "<keras.callbacks.History at 0x1514b29d0>"
      ]
     },
     "execution_count": 93,
     "metadata": {},
     "output_type": "execute_result"
    }
   ],
   "source": [
    "model.fit(\n",
    "    x_train,\n",
    "    y_train,\n",
    "    epochs=9,\n",
    "    batch_size=512,\n",
    "    \n",
    ")"
   ]
  },
  {
   "cell_type": "code",
   "execution_count": 94,
   "id": "d886b9d6-7e88-465e-a38a-558651b2efdc",
   "metadata": {},
   "outputs": [
    {
     "name": "stdout",
     "output_type": "stream",
     "text": [
      "71/71 [==============================] - 1s 5ms/step - loss: 0.9004 - accuracy: 0.8010\n"
     ]
    }
   ],
   "source": [
    "results = model.evaluate(x_test, y_test)\n"
   ]
  },
  {
   "cell_type": "code",
   "execution_count": 95,
   "id": "fd95991f-bb80-40dc-9b40-796e45950767",
   "metadata": {},
   "outputs": [
    {
     "data": {
      "text/plain": [
       "[0.9003921151161194, 0.800979495048523]"
      ]
     },
     "execution_count": 95,
     "metadata": {},
     "output_type": "execute_result"
    }
   ],
   "source": [
    "results"
   ]
  },
  {
   "cell_type": "code",
   "execution_count": 96,
   "id": "1219391d-04d1-47a7-b369-b420dee93e90",
   "metadata": {},
   "outputs": [
    {
     "name": "stdout",
     "output_type": "stream",
     "text": [
      "71/71 [==============================] - 0s 5ms/step\n"
     ]
    }
   ],
   "source": [
    "predictions = model.predict(x_test)"
   ]
  },
  {
   "cell_type": "code",
   "execution_count": 98,
   "id": "c821adc5-0309-4d4c-b080-24e31bffb565",
   "metadata": {},
   "outputs": [
    {
     "data": {
      "text/plain": [
       "3"
      ]
     },
     "execution_count": 98,
     "metadata": {},
     "output_type": "execute_result"
    }
   ],
   "source": [
    "np.argmax(predictions[0])"
   ]
  },
  {
   "cell_type": "code",
   "execution_count": 99,
   "id": "8d310016-2b7c-40ce-af87-f0a63604993d",
   "metadata": {},
   "outputs": [
    {
     "data": {
      "text/plain": [
       "3"
      ]
     },
     "execution_count": 99,
     "metadata": {},
     "output_type": "execute_result"
    }
   ],
   "source": [
    "test_labels[0]"
   ]
  },
  {
   "cell_type": "markdown",
   "id": "f09d91d6-524b-4fec-bd0b-ee960edf36f0",
   "metadata": {},
   "source": [
    "### The importance of having sufficiently large intermediate layers\n",
    "#### A model with an information bottleneck"
   ]
  },
  {
   "cell_type": "code",
   "execution_count": 101,
   "id": "947081eb-83dd-4506-8654-c273d9e800d3",
   "metadata": {},
   "outputs": [],
   "source": [
    "x_val = x_train[:1000]\n",
    "y_val = y_train_keras[:1000]\n",
    "partial_x_train = x_train[1000:]\n",
    "partial_y_train = y_train_keras[1000:]"
   ]
  },
  {
   "cell_type": "code",
   "execution_count": 102,
   "id": "32e35c7b-ee28-496c-91d1-3bca9e6a603c",
   "metadata": {},
   "outputs": [
    {
     "name": "stdout",
     "output_type": "stream",
     "text": [
      "Epoch 1/20\n",
      "63/63 [==============================] - 2s 23ms/step - loss: 3.0629 - accuracy: 0.2216 - val_loss: 2.4999 - val_accuracy: 0.3690\n",
      "Epoch 2/20\n",
      "63/63 [==============================] - 1s 19ms/step - loss: 2.2098 - accuracy: 0.3692 - val_loss: 2.0112 - val_accuracy: 0.3780\n",
      "Epoch 3/20\n",
      "63/63 [==============================] - 1s 20ms/step - loss: 1.8228 - accuracy: 0.4092 - val_loss: 1.7050 - val_accuracy: 0.5750\n",
      "Epoch 4/20\n",
      "63/63 [==============================] - 1s 19ms/step - loss: 1.5641 - accuracy: 0.5892 - val_loss: 1.5466 - val_accuracy: 0.5910\n",
      "Epoch 5/20\n",
      "63/63 [==============================] - 1s 21ms/step - loss: 1.4461 - accuracy: 0.5975 - val_loss: 1.5022 - val_accuracy: 0.5970\n",
      "Epoch 6/20\n",
      "63/63 [==============================] - 1s 22ms/step - loss: 1.3826 - accuracy: 0.6031 - val_loss: 1.4793 - val_accuracy: 0.5950\n",
      "Epoch 7/20\n",
      "63/63 [==============================] - 1s 19ms/step - loss: 1.3360 - accuracy: 0.6052 - val_loss: 1.4780 - val_accuracy: 0.5940\n",
      "Epoch 8/20\n",
      "63/63 [==============================] - 1s 20ms/step - loss: 1.2983 - accuracy: 0.6070 - val_loss: 1.4672 - val_accuracy: 0.6050\n",
      "Epoch 9/20\n",
      "63/63 [==============================] - 1s 20ms/step - loss: 1.2652 - accuracy: 0.6090 - val_loss: 1.4785 - val_accuracy: 0.5970\n",
      "Epoch 10/20\n",
      "63/63 [==============================] - 1s 21ms/step - loss: 1.2383 - accuracy: 0.6095 - val_loss: 1.4800 - val_accuracy: 0.6050\n",
      "Epoch 11/20\n",
      "63/63 [==============================] - 1s 21ms/step - loss: 1.2128 - accuracy: 0.6119 - val_loss: 1.4870 - val_accuracy: 0.6060\n",
      "Epoch 12/20\n",
      "63/63 [==============================] - 1s 21ms/step - loss: 1.1914 - accuracy: 0.6159 - val_loss: 1.5065 - val_accuracy: 0.6110\n",
      "Epoch 13/20\n",
      "63/63 [==============================] - 1s 20ms/step - loss: 1.1700 - accuracy: 0.6203 - val_loss: 1.5257 - val_accuracy: 0.5970\n",
      "Epoch 14/20\n",
      "63/63 [==============================] - 1s 21ms/step - loss: 1.1506 - accuracy: 0.6329 - val_loss: 1.5183 - val_accuracy: 0.6120\n",
      "Epoch 15/20\n",
      "63/63 [==============================] - 1s 21ms/step - loss: 1.1324 - accuracy: 0.6447 - val_loss: 1.5691 - val_accuracy: 0.6000\n",
      "Epoch 16/20\n",
      "63/63 [==============================] - 1s 19ms/step - loss: 1.1159 - accuracy: 0.6492 - val_loss: 1.5429 - val_accuracy: 0.6090\n",
      "Epoch 17/20\n",
      "63/63 [==============================] - 1s 19ms/step - loss: 1.1007 - accuracy: 0.6552 - val_loss: 1.5588 - val_accuracy: 0.6190\n",
      "Epoch 18/20\n",
      "63/63 [==============================] - 1s 20ms/step - loss: 1.0870 - accuracy: 0.6582 - val_loss: 1.5663 - val_accuracy: 0.6190\n",
      "Epoch 19/20\n",
      "63/63 [==============================] - 1s 21ms/step - loss: 1.0747 - accuracy: 0.6662 - val_loss: 1.5997 - val_accuracy: 0.6180\n",
      "Epoch 20/20\n",
      "63/63 [==============================] - 1s 21ms/step - loss: 1.0619 - accuracy: 0.6696 - val_loss: 1.6405 - val_accuracy: 0.6160\n"
     ]
    },
    {
     "data": {
      "text/plain": [
       "<keras.callbacks.History at 0x15474ba50>"
      ]
     },
     "execution_count": 102,
     "metadata": {},
     "output_type": "execute_result"
    }
   ],
   "source": [
    "model = keras.Sequential([\n",
    "    layers.Dense(64, activation=\"relu\"),\n",
    "    layers.Dense(4, activation=\"relu\"),\n",
    "    layers.Dense(46, activation=\"softmax\")\n",
    "])\n",
    "model.compile(optimizer=\"rmsprop\",\n",
    "              loss=\"categorical_crossentropy\",\n",
    "              metrics=[\"accuracy\"])\n",
    "model.fit(partial_x_train,\n",
    "          partial_y_train,\n",
    "          epochs=20,\n",
    "          batch_size=128,\n",
    "          validation_data=(x_val, y_val))"
   ]
  },
  {
   "cell_type": "code",
   "execution_count": null,
   "id": "39fb2820-62ad-4ad5-bba0-833bbddf7cbf",
   "metadata": {},
   "outputs": [],
   "source": []
  },
  {
   "cell_type": "markdown",
   "id": "247a79c1-1265-4fb1-9e94-6496b8a9c234",
   "metadata": {},
   "source": [
    "## A regression example\n",
    "## Predicting house prices"
   ]
  },
  {
   "cell_type": "code",
   "execution_count": 103,
   "id": "558ccd3c-04b8-4a00-b8fb-97f288db78ce",
   "metadata": {},
   "outputs": [
    {
     "name": "stdout",
     "output_type": "stream",
     "text": [
      "Downloading data from https://storage.googleapis.com/tensorflow/tf-keras-datasets/boston_housing.npz\n",
      "57026/57026 [==============================] - 0s 3us/step\n"
     ]
    }
   ],
   "source": [
    "from tensorflow.keras.datasets import boston_housing \n",
    "(train_data, train_targets), (test_data, test_targets) = (boston_housing.load_data())"
   ]
  },
  {
   "cell_type": "code",
   "execution_count": 104,
   "id": "d73a5570-dd6c-4476-9af8-c15d011e962d",
   "metadata": {},
   "outputs": [
    {
     "data": {
      "text/plain": [
       "(404, 13)"
      ]
     },
     "execution_count": 104,
     "metadata": {},
     "output_type": "execute_result"
    }
   ],
   "source": [
    "train_data.shape"
   ]
  },
  {
   "cell_type": "code",
   "execution_count": 105,
   "id": "0690057c-647e-4a99-8c89-86fab06620a2",
   "metadata": {},
   "outputs": [
    {
     "data": {
      "text/plain": [
       "(102, 13)"
      ]
     },
     "execution_count": 105,
     "metadata": {},
     "output_type": "execute_result"
    }
   ],
   "source": [
    "test_data.shape"
   ]
  },
  {
   "cell_type": "code",
   "execution_count": 106,
   "id": "3a6c3af8-8104-42ec-91d2-7b71f707d6b9",
   "metadata": {},
   "outputs": [
    {
     "data": {
      "text/plain": [
       "array([15.2, 42.3, 50. , 21.1, 17.7, 18.5, 11.3, 15.6, 15.6, 14.4, 12.1,\n",
       "       17.9, 23.1, 19.9, 15.7,  8.8, 50. , 22.5, 24.1, 27.5, 10.9, 30.8,\n",
       "       32.9, 24. , 18.5, 13.3, 22.9, 34.7, 16.6, 17.5, 22.3, 16.1, 14.9,\n",
       "       23.1, 34.9, 25. , 13.9, 13.1, 20.4, 20. , 15.2, 24.7, 22.2, 16.7,\n",
       "       12.7, 15.6, 18.4, 21. , 30.1, 15.1, 18.7,  9.6, 31.5, 24.8, 19.1,\n",
       "       22. , 14.5, 11. , 32. , 29.4, 20.3, 24.4, 14.6, 19.5, 14.1, 14.3,\n",
       "       15.6, 10.5,  6.3, 19.3, 19.3, 13.4, 36.4, 17.8, 13.5, 16.5,  8.3,\n",
       "       14.3, 16. , 13.4, 28.6, 43.5, 20.2, 22. , 23. , 20.7, 12.5, 48.5,\n",
       "       14.6, 13.4, 23.7, 50. , 21.7, 39.8, 38.7, 22.2, 34.9, 22.5, 31.1,\n",
       "       28.7, 46. , 41.7, 21. , 26.6, 15. , 24.4, 13.3, 21.2, 11.7, 21.7,\n",
       "       19.4, 50. , 22.8, 19.7, 24.7, 36.2, 14.2, 18.9, 18.3, 20.6, 24.6,\n",
       "       18.2,  8.7, 44. , 10.4, 13.2, 21.2, 37. , 30.7, 22.9, 20. , 19.3,\n",
       "       31.7, 32. , 23.1, 18.8, 10.9, 50. , 19.6,  5. , 14.4, 19.8, 13.8,\n",
       "       19.6, 23.9, 24.5, 25. , 19.9, 17.2, 24.6, 13.5, 26.6, 21.4, 11.9,\n",
       "       22.6, 19.6,  8.5, 23.7, 23.1, 22.4, 20.5, 23.6, 18.4, 35.2, 23.1,\n",
       "       27.9, 20.6, 23.7, 28. , 13.6, 27.1, 23.6, 20.6, 18.2, 21.7, 17.1,\n",
       "        8.4, 25.3, 13.8, 22.2, 18.4, 20.7, 31.6, 30.5, 20.3,  8.8, 19.2,\n",
       "       19.4, 23.1, 23. , 14.8, 48.8, 22.6, 33.4, 21.1, 13.6, 32.2, 13.1,\n",
       "       23.4, 18.9, 23.9, 11.8, 23.3, 22.8, 19.6, 16.7, 13.4, 22.2, 20.4,\n",
       "       21.8, 26.4, 14.9, 24.1, 23.8, 12.3, 29.1, 21. , 19.5, 23.3, 23.8,\n",
       "       17.8, 11.5, 21.7, 19.9, 25. , 33.4, 28.5, 21.4, 24.3, 27.5, 33.1,\n",
       "       16.2, 23.3, 48.3, 22.9, 22.8, 13.1, 12.7, 22.6, 15. , 15.3, 10.5,\n",
       "       24. , 18.5, 21.7, 19.5, 33.2, 23.2,  5. , 19.1, 12.7, 22.3, 10.2,\n",
       "       13.9, 16.3, 17. , 20.1, 29.9, 17.2, 37.3, 45.4, 17.8, 23.2, 29. ,\n",
       "       22. , 18. , 17.4, 34.6, 20.1, 25. , 15.6, 24.8, 28.2, 21.2, 21.4,\n",
       "       23.8, 31. , 26.2, 17.4, 37.9, 17.5, 20. ,  8.3, 23.9,  8.4, 13.8,\n",
       "        7.2, 11.7, 17.1, 21.6, 50. , 16.1, 20.4, 20.6, 21.4, 20.6, 36.5,\n",
       "        8.5, 24.8, 10.8, 21.9, 17.3, 18.9, 36.2, 14.9, 18.2, 33.3, 21.8,\n",
       "       19.7, 31.6, 24.8, 19.4, 22.8,  7.5, 44.8, 16.8, 18.7, 50. , 50. ,\n",
       "       19.5, 20.1, 50. , 17.2, 20.8, 19.3, 41.3, 20.4, 20.5, 13.8, 16.5,\n",
       "       23.9, 20.6, 31.5, 23.3, 16.8, 14. , 33.8, 36.1, 12.8, 18.3, 18.7,\n",
       "       19.1, 29. , 30.1, 50. , 50. , 22. , 11.9, 37.6, 50. , 22.7, 20.8,\n",
       "       23.5, 27.9, 50. , 19.3, 23.9, 22.6, 15.2, 21.7, 19.2, 43.8, 20.3,\n",
       "       33.2, 19.9, 22.5, 32.7, 22. , 17.1, 19. , 15. , 16.1, 25.1, 23.7,\n",
       "       28.7, 37.2, 22.6, 16.4, 25. , 29.8, 22.1, 17.4, 18.1, 30.3, 17.5,\n",
       "       24.7, 12.6, 26.5, 28.7, 13.3, 10.4, 24.4, 23. , 20. , 17.8,  7. ,\n",
       "       11.8, 24.4, 13.8, 19.4, 25.2, 19.4, 19.4, 29.1])"
      ]
     },
     "execution_count": 106,
     "metadata": {},
     "output_type": "execute_result"
    }
   ],
   "source": [
    "train_targets"
   ]
  },
  {
   "cell_type": "markdown",
   "id": "4b676ccc-d527-4c5a-8610-168234fb24fd",
   "metadata": {},
   "source": [
    "##### Preparing the data\n"
   ]
  },
  {
   "cell_type": "markdown",
   "id": "8ef2c5a7-12c9-45a6-96f6-e39aba551282",
   "metadata": {},
   "source": [
    "###### Normalizing the data:"
   ]
  },
  {
   "cell_type": "code",
   "execution_count": 107,
   "id": "aafd71d6-d602-4cea-94ee-50ac3c78d8e7",
   "metadata": {},
   "outputs": [],
   "source": [
    "mean = train_data.mean(axis=0)\n",
    "train_data -= mean\n",
    "std = train_data.std(axis=0)\n",
    "train_data /= std\n",
    "test_data -= mean\n",
    "test_data /= std"
   ]
  },
  {
   "cell_type": "code",
   "execution_count": 109,
   "id": "067c04e6-2328-4279-8607-639658475b34",
   "metadata": {},
   "outputs": [],
   "source": [
    "def build_model():\n",
    "    model = keras.Sequential([\n",
    "        layers.Dense(64,activation=\"relu\"),\n",
    "        layers.Dense(64,activation=\"relu\"),\n",
    "        layers.Dense(1)\n",
    "                     \n",
    "    ])\n",
    "    model.compile(optimizer=\"rmsprop\",\n",
    "                 loss=\"mse\",\n",
    "                 metrics=[\"mae\"])\n",
    "    return model"
   ]
  },
  {
   "cell_type": "markdown",
   "id": "a246bc84-0e76-4583-ba6f-a22724912477",
   "metadata": {},
   "source": [
    "##### Validating your approach using K-fold validation"
   ]
  },
  {
   "cell_type": "code",
   "execution_count": 110,
   "id": "9ba209e7-bfdc-4081-b590-9d7c83b010f4",
   "metadata": {},
   "outputs": [
    {
     "name": "stdout",
     "output_type": "stream",
     "text": [
      "Processing fold #0\n",
      "Processing fold #1\n",
      "Processing fold #2\n",
      "Processing fold #3\n"
     ]
    }
   ],
   "source": [
    "k = 4\n",
    "num_val_samples = len(train_data) // k\n",
    "num_epochs = 100\n",
    "all_scores = []\n",
    "\n",
    "for i in range(k):\n",
    "    print(f\"Processing fold #{i}\")\n",
    "    val_data = train_data[i * num_val_samples: (i + 1) * num_val_samples]\n",
    "    val_targets = train_targets[i * num_val_samples: (i + 1) * num_val_samples]\n",
    "    partial_train_data = np.concatenate(\n",
    "        [train_data[:i * num_val_samples], train_data[(i + 1) * num_val_samples:]],\n",
    "        axis=0)\n",
    "    partial_train_targets = np.concatenate(\n",
    "        [train_targets[:i * num_val_samples], train_targets[(i + 1) * num_val_samples:]],\n",
    "        axis=0)\n",
    "    model = build_model()\n",
    "    model.fit(partial_train_data,\n",
    "              partial_train_targets,\n",
    "              epochs=num_epochs, \n",
    "              batch_size=16, verbose=0)\n",
    "    val_mse, val_mae = model.evaluate(val_data, val_targets, verbose=0)\n",
    "    all_scores.append(val_mae)"
   ]
  },
  {
   "cell_type": "code",
   "execution_count": 111,
   "id": "91dba861-201e-4339-b338-024ba4630efd",
   "metadata": {},
   "outputs": [
    {
     "data": {
      "text/plain": [
       "[1.9842361211776733,\n",
       " 2.4874112606048584,\n",
       " 2.6914594173431396,\n",
       " 2.3589372634887695]"
      ]
     },
     "execution_count": 111,
     "metadata": {},
     "output_type": "execute_result"
    }
   ],
   "source": [
    "all_scores"
   ]
  },
  {
   "cell_type": "code",
   "execution_count": 114,
   "id": "101858fe-df42-49cd-b331-201e30a03569",
   "metadata": {},
   "outputs": [
    {
     "data": {
      "text/plain": [
       "2.3805110156536102"
      ]
     },
     "execution_count": 114,
     "metadata": {},
     "output_type": "execute_result"
    }
   ],
   "source": [
    "np.mean(all_scores)"
   ]
  },
  {
   "cell_type": "code",
   "execution_count": 115,
   "id": "c5b9de3b-87ab-4628-9524-727cc7cae94e",
   "metadata": {},
   "outputs": [
    {
     "name": "stdout",
     "output_type": "stream",
     "text": [
      "Processing fold #0\n",
      "Processing fold #1\n",
      "Processing fold #2\n",
      "Processing fold #3\n"
     ]
    }
   ],
   "source": [
    "\n",
    "num_epochs = 500\n",
    "all_mae_histories = []\n",
    "\n",
    "for i in range(k):\n",
    "    print(f\"Processing fold #{i}\")\n",
    "    val_data = train_data[i * num_val_samples: (i + 1) * num_val_samples]\n",
    "    val_targets = train_targets[i * num_val_samples: (i + 1) * num_val_samples]\n",
    "    partial_train_data = np.concatenate(\n",
    "        [train_data[:i * num_val_samples], train_data[(i + 1) * num_val_samples:]],\n",
    "        axis=0)\n",
    "    partial_train_targets = np.concatenate(\n",
    "        [train_targets[:i * num_val_samples], train_targets[(i + 1) * num_val_samples:]],\n",
    "        axis=0)\n",
    "    model = build_model()\n",
    "    history = model.fit(partial_train_data,\n",
    "              partial_train_targets,\n",
    "              epochs=num_epochs,\n",
    "              validation_data=(val_data, val_targets),batch_size=16, verbose=0)\n",
    "    mae_history = history.history[\"val_mae\"]\n",
    "    all_mae_histories.append(mae_history)\n"
   ]
  },
  {
   "cell_type": "code",
   "execution_count": 116,
   "id": "1ff35dff-c910-4d3a-b6e8-ba4c6d56cc10",
   "metadata": {},
   "outputs": [],
   "source": [
    "average_mae_history = [np.mean([x[i] for x in all_mae_histories]) for i in range(num_epochs)]"
   ]
  },
  {
   "cell_type": "code",
   "execution_count": 117,
   "id": "496867a6-3c4a-43cd-a935-68fee71cb715",
   "metadata": {},
   "outputs": [
    {
     "data": {
      "image/png": "[encoded data removed]",
      "text/plain": [
       "<Figure size 640x480 with 1 Axes>"
      ]
     },
     "metadata": {},
     "output_type": "display_data"
    }
   ],
   "source": [
    "plt.plot(range(1, len(average_mae_history) + 1), average_mae_history)\n",
    "plt.xlabel(\"Epochs\")\n",
    "plt.ylabel(\"Validation MAE\")\n",
    "plt.show()"
   ]
  },
  {
   "cell_type": "code",
   "execution_count": 118,
   "id": "ded464a9-4b15-4d09-b547-bed209c54307",
   "metadata": {},
   "outputs": [
    {
     "data": {
      "image/png": "[encoded data removed]",
      "text/plain": [
       "<Figure size 640x480 with 1 Axes>"
      ]
     },
     "metadata": {},
     "output_type": "display_data"
    }
   ],
   "source": [
    "truncated_mae_history = average_mae_history[10:]\n",
    "plt.plot(range(1, len(truncated_mae_history) + 1), truncated_mae_history)\n",
    "plt.xlabel(\"Epochs\")\n",
    "plt.ylabel(\"Validation MAE\")\n",
    "plt.show()\n"
   ]
  },
  {
   "cell_type": "code",
   "execution_count": 119,
   "id": "09ff5dac-b96b-4806-8352-552017974755",
   "metadata": {},
   "outputs": [
    {
     "name": "stdout",
     "output_type": "stream",
     "text": [
      "4/4 [==============================] - 0s 3ms/step - loss: 17.3850 - mae: 2.7026\n"
     ]
    }
   ],
   "source": [
    "model = build_model()\n",
    "model.fit(train_data, train_targets,epochs=130, batch_size=16, verbose=0)\n",
    "test_mse_score, test_mae_score = model.evaluate(test_data, test_targets)"
   ]
  },
  {
   "cell_type": "code",
   "execution_count": 120,
   "id": "1843c54f-9b45-4c89-9651-0333436d41e9",
   "metadata": {},
   "outputs": [
    {
     "data": {
      "text/plain": [
       "2.7026360034942627"
      ]
     },
     "execution_count": 120,
     "metadata": {},
     "output_type": "execute_result"
    }
   ],
   "source": [
    "test_mae_score"
   ]
  },
  {
   "cell_type": "code",
   "execution_count": 121,
   "id": "72210fef-99d3-4937-b1d7-2e63d32721e0",
   "metadata": {},
   "outputs": [
    {
     "name": "stdout",
     "output_type": "stream",
     "text": [
      "4/4 [==============================] - 0s 2ms/step\n"
     ]
    }
   ],
   "source": [
    "predictions = model.predict(test_data)"
   ]
  },
  {
   "cell_type": "code",
   "execution_count": 122,
   "id": "d480ccfd-a079-4b50-ac9c-738f9287909c",
   "metadata": {},
   "outputs": [
    {
     "data": {
      "text/plain": [
       "array([9.467367], dtype=float32)"
      ]
     },
     "execution_count": 122,
     "metadata": {},
     "output_type": "execute_result"
    }
   ],
   "source": [
    "predictions[0]"
   ]
  },
  {
   "cell_type": "code",
   "execution_count": 125,
   "id": "1da24fd7-9578-47e7-887c-1aa40bef4dfb",
   "metadata": {},
   "outputs": [
    {
     "data": {
      "text/plain": [
       "7.2"
      ]
     },
     "execution_count": 125,
     "metadata": {},
     "output_type": "execute_result"
    }
   ],
   "source": [
    "test_targets[0]"
   ]
  },
  {
   "cell_type": "code",
   "execution_count": null,
   "id": "e9829b72-6d19-4176-82ab-c6c6ffa6252c",
   "metadata": {},
   "outputs": [],
   "source": []
  }
 ],
 "metadata": {
  "kernelspec": {
   "display_name": "Python 3 (ipykernel)",
   "language": "python",
   "name": "python3"
  },
  "language_info": {
   "codemirror_mode": {
    "name": "ipython",
    "version": 3
   },
   "file_extension": ".py",
   "mimetype": "text/x-python",
   "name": "python",
   "nbconvert_exporter": "python",
   "pygments_lexer": "ipython3",
   "version": "3.11.5"
  }
 },
 "nbformat": 4,
 "nbformat_minor": 5
}
