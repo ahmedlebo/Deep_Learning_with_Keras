{
 "cells": [
  {
   "cell_type": "markdown",
   "id": "2583eb56-944d-4d5f-9d95-24ee504c0ee1",
   "metadata": {},
   "source": [
    "## First_Example:"
   ]
  },
  {
   "cell_type": "code",
   "execution_count": 1,
   "id": "221fb24d-8ad2-4274-8de6-37c62854da4d",
   "metadata": {},
   "outputs": [
    {
     "name": "stderr",
     "output_type": "stream",
     "text": [
      "2023-12-14 21:28:29.902828: I tensorflow/core/platform/cpu_feature_guard.cc:182] This TensorFlow binary is optimized to use available CPU instructions in performance-critical operations.\n",
      "To enable the following instructions: SSE4.1 SSE4.2 AVX, in other operations, rebuild TensorFlow with the appropriate compiler flags.\n"
     ]
    }
   ],
   "source": [
    "from tensorflow.keras.datasets import mnist\n",
    "(train_images, train_labels), (test_images, test_labels) = mnist.load_data()\n"
   ]
  },
  {
   "cell_type": "code",
   "execution_count": 2,
   "id": "8e299f39-b1d0-4d4d-bbcf-172ad202762a",
   "metadata": {},
   "outputs": [
    {
     "data": {
      "text/plain": [
       "(60000, 28, 28)"
      ]
     },
     "execution_count": 2,
     "metadata": {},
     "output_type": "execute_result"
    }
   ],
   "source": [
    "train_images.shape"
   ]
  },
  {
   "cell_type": "code",
   "execution_count": 3,
   "id": "e97ef585-dc05-49dd-b186-e48d73e4c13c",
   "metadata": {},
   "outputs": [
    {
     "data": {
      "text/plain": [
       "60000"
      ]
     },
     "execution_count": 3,
     "metadata": {},
     "output_type": "execute_result"
    }
   ],
   "source": [
    "len(train_labels)"
   ]
  },
  {
   "cell_type": "code",
   "execution_count": 4,
   "id": "8048c0ad-e428-43dd-a788-a7dad593822f",
   "metadata": {},
   "outputs": [
    {
     "data": {
      "text/plain": [
       "array([5, 0, 4, ..., 5, 6, 8], dtype=uint8)"
      ]
     },
     "execution_count": 4,
     "metadata": {},
     "output_type": "execute_result"
    }
   ],
   "source": [
    "train_labels"
   ]
  },
  {
   "cell_type": "code",
   "execution_count": 5,
   "id": "dc772abe-4792-40c3-bc3a-311e5d59bfe8",
   "metadata": {},
   "outputs": [
    {
     "data": {
      "text/plain": [
       "(10000, 28, 28)"
      ]
     },
     "execution_count": 5,
     "metadata": {},
     "output_type": "execute_result"
    }
   ],
   "source": [
    "test_images.shape"
   ]
  },
  {
   "cell_type": "code",
   "execution_count": 6,
   "id": "d381c8ee-8041-4eb3-8f6e-52574374d07e",
   "metadata": {},
   "outputs": [
    {
     "data": {
      "text/plain": [
       "10000"
      ]
     },
     "execution_count": 6,
     "metadata": {},
     "output_type": "execute_result"
    }
   ],
   "source": [
    "len(test_labels)"
   ]
  },
  {
   "cell_type": "code",
   "execution_count": 7,
   "id": "4b7142a9-66f5-4f45-8285-4f74cbe7a980",
   "metadata": {},
   "outputs": [
    {
     "data": {
      "text/plain": [
       "array([7, 2, 1, ..., 4, 5, 6], dtype=uint8)"
      ]
     },
     "execution_count": 7,
     "metadata": {},
     "output_type": "execute_result"
    }
   ],
   "source": [
    "test_labels"
   ]
  },
  {
   "cell_type": "code",
   "execution_count": 8,
   "id": "9e8c7f31-18b4-49e6-b07c-98527aa21e48",
   "metadata": {},
   "outputs": [],
   "source": [
    "## Building simple network\n",
    "from tensorflow import keras\n",
    "from tensorflow.keras import layers"
   ]
  },
  {
   "cell_type": "code",
   "execution_count": 9,
   "id": "93922121-20c1-4ea7-a65a-be35f546b28d",
   "metadata": {},
   "outputs": [],
   "source": [
    "model = keras.Sequential([\n",
    "    layers.Dense(512, activation=\"relu\"),\n",
    "    layers.Dense(10,activation=\"softmax\")  \n",
    "])"
   ]
  },
  {
   "cell_type": "code",
   "execution_count": 10,
   "id": "96e9ad18-b4d2-46d8-b4b2-891310b0efa2",
   "metadata": {},
   "outputs": [],
   "source": [
    "model.compile(optimizer=\"rmsprop\",\n",
    "              loss=\"sparse_categorical_crossentropy\",\n",
    "              metrics=[\"accuracy\"])"
   ]
  },
  {
   "cell_type": "code",
   "execution_count": 11,
   "id": "87c07fd1-9be8-4160-a00b-c372322e9992",
   "metadata": {},
   "outputs": [],
   "source": [
    "train_images = train_images.reshape((60000, 28 * 28))\n",
    "train_images = train_images.astype(\"float32\") / 255\n",
    "test_images = test_images.reshape((10000, 28 * 28))\n",
    "test_images = test_images.astype(\"float32\") / 255"
   ]
  },
  {
   "cell_type": "code",
   "execution_count": 12,
   "id": "dc165ddb-d55e-421f-96c7-00c3aace81d4",
   "metadata": {},
   "outputs": [
    {
     "name": "stdout",
     "output_type": "stream",
     "text": [
      "Epoch 1/5\n",
      "469/469 [==============================] - 6s 11ms/step - loss: 0.2605 - accuracy: 0.9254\n",
      "Epoch 2/5\n",
      "469/469 [==============================] - 5s 11ms/step - loss: 0.1060 - accuracy: 0.9681\n",
      "Epoch 3/5\n",
      "469/469 [==============================] - 5s 11ms/step - loss: 0.0699 - accuracy: 0.9789\n",
      "Epoch 4/5\n",
      "469/469 [==============================] - 5s 12ms/step - loss: 0.0513 - accuracy: 0.9845\n",
      "Epoch 5/5\n",
      "469/469 [==============================] - 6s 13ms/step - loss: 0.0378 - accuracy: 0.9888\n"
     ]
    },
    {
     "data": {
      "text/plain": [
       "<keras.callbacks.History at 0x14f425110>"
      ]
     },
     "execution_count": 12,
     "metadata": {},
     "output_type": "execute_result"
    }
   ],
   "source": [
    "model.fit(train_images, train_labels, epochs=5, batch_size=128)"
   ]
  },
  {
   "cell_type": "code",
   "execution_count": 13,
   "id": "dab7f6b7-2acc-4ed7-abc4-b35da0d24b8b",
   "metadata": {},
   "outputs": [],
   "source": [
    "test_digits = test_images[0:10]"
   ]
  },
  {
   "cell_type": "code",
   "execution_count": 14,
   "id": "2cd5b30e-c322-40b3-80e1-7cc01fe9c31e",
   "metadata": {},
   "outputs": [
    {
     "name": "stdout",
     "output_type": "stream",
     "text": [
      "1/1 [==============================] - 0s 102ms/step\n"
     ]
    },
    {
     "data": {
      "text/plain": [
       "array([1.6751559e-07, 3.7959786e-09, 6.5272739e-06, 2.4628365e-05,\n",
       "       4.3407077e-11, 1.6689203e-08, 5.8113865e-12, 9.9996817e-01,\n",
       "       1.0178562e-08, 4.2279896e-07], dtype=float32)"
      ]
     },
     "execution_count": 14,
     "metadata": {},
     "output_type": "execute_result"
    }
   ],
   "source": [
    "predictions= model.predict(test_digits)\n",
    "predictions[0]\n"
   ]
  },
  {
   "cell_type": "code",
   "execution_count": 15,
   "id": "8743bbb3-94d3-4d52-bcda-1c1dc4dafbc2",
   "metadata": {},
   "outputs": [
    {
     "data": {
      "text/plain": [
       "7"
      ]
     },
     "execution_count": 15,
     "metadata": {},
     "output_type": "execute_result"
    }
   ],
   "source": [
    "predictions[0].argmax()"
   ]
  },
  {
   "cell_type": "code",
   "execution_count": 16,
   "id": "fc1027a3-7c40-4e6b-b0e2-822aa553c324",
   "metadata": {},
   "outputs": [
    {
     "data": {
      "text/plain": [
       "0.9999682"
      ]
     },
     "execution_count": 16,
     "metadata": {},
     "output_type": "execute_result"
    }
   ],
   "source": [
    "predictions[0][7]"
   ]
  },
  {
   "cell_type": "code",
   "execution_count": 17,
   "id": "a3c2654c-9323-40af-a9b0-1147a11154e3",
   "metadata": {},
   "outputs": [
    {
     "data": {
      "text/plain": [
       "7"
      ]
     },
     "execution_count": 17,
     "metadata": {},
     "output_type": "execute_result"
    }
   ],
   "source": [
    "test_labels[0]"
   ]
  },
  {
   "cell_type": "code",
   "execution_count": 18,
   "id": "bc58106e-7ef1-45f4-a2e5-184b48a820fe",
   "metadata": {},
   "outputs": [
    {
     "name": "stdout",
     "output_type": "stream",
     "text": [
      "313/313 [==============================] - 1s 3ms/step - loss: 0.0641 - accuracy: 0.9797\n"
     ]
    }
   ],
   "source": [
    "test_loss, test_acc = model.evaluate(test_images, test_labels)"
   ]
  },
  {
   "cell_type": "code",
   "execution_count": 19,
   "id": "206dc4fd-f24a-4c69-8c58-8ce3357f0aa7",
   "metadata": {},
   "outputs": [
    {
     "name": "stdout",
     "output_type": "stream",
     "text": [
      "test_acc: 0.9797000288963318\n",
      "test_loss: 0.06409997493028641\n"
     ]
    }
   ],
   "source": [
    "print(f\"test_acc: {test_acc}\")\n",
    "print(f\"test_loss: {test_loss}\")"
   ]
  },
  {
   "cell_type": "markdown",
   "id": "2d347789-7cef-477b-a240-be321c01e339",
   "metadata": {},
   "source": [
    "## Tensors:"
   ]
  },
  {
   "cell_type": "markdown",
   "id": "0f0c1fb7-4602-4414-81f1-a81c7725ed4b",
   "metadata": {},
   "source": [
    "#### Scalar Tensors:"
   ]
  },
  {
   "cell_type": "code",
   "execution_count": 20,
   "id": "04e1d8df-f37f-4129-8b89-2a4b8f38ec79",
   "metadata": {},
   "outputs": [
    {
     "data": {
      "text/plain": [
       "array(12)"
      ]
     },
     "execution_count": 20,
     "metadata": {},
     "output_type": "execute_result"
    }
   ],
   "source": [
    "import numpy as np\n",
    "x = np.array(12)\n",
    "x"
   ]
  },
  {
   "cell_type": "code",
   "execution_count": 21,
   "id": "95d2f870-c99e-4c6f-85fb-47ad940b9d52",
   "metadata": {},
   "outputs": [
    {
     "data": {
      "text/plain": [
       "0"
      ]
     },
     "execution_count": 21,
     "metadata": {},
     "output_type": "execute_result"
    }
   ],
   "source": [
    "x.ndim"
   ]
  },
  {
   "cell_type": "markdown",
   "id": "a431d8ae-a754-463b-aa1e-5254516d3680",
   "metadata": {},
   "source": [
    "### Vectors(1D tensors):"
   ]
  },
  {
   "cell_type": "code",
   "execution_count": 22,
   "id": "9becff6b-8f5e-45a7-8612-c21203d33bb8",
   "metadata": {},
   "outputs": [
    {
     "data": {
      "text/plain": [
       "array([12,  3,  6, 17,  4])"
      ]
     },
     "execution_count": 22,
     "metadata": {},
     "output_type": "execute_result"
    }
   ],
   "source": [
    "x = np.array([12,3,6,17,4])\n",
    "x"
   ]
  },
  {
   "cell_type": "code",
   "execution_count": 23,
   "id": "8e78493a-9ded-4e5e-b946-29537f05170c",
   "metadata": {},
   "outputs": [
    {
     "data": {
      "text/plain": [
       "1"
      ]
     },
     "execution_count": 23,
     "metadata": {},
     "output_type": "execute_result"
    }
   ],
   "source": [
    "x.ndim"
   ]
  },
  {
   "cell_type": "markdown",
   "id": "07904b21-5051-4ef5-b2c2-8d2200e21a7b",
   "metadata": {},
   "source": [
    "##### A 5D tensor is not the same as a 5D vector. A 5D tensor will have five axes, whereas a 5D vector has just only one axis and five dimensions along it (and may have any number of dimensions along each axis)"
   ]
  },
  {
   "cell_type": "markdown",
   "id": "a3d49624-e9f3-448e-93cc-7cc110dd3b8b",
   "metadata": {},
   "source": [
    "##### Example: 5D vector:"
   ]
  },
  {
   "cell_type": "code",
   "execution_count": 24,
   "id": "ee75b033-1a81-47b5-a456-498f1447cfd6",
   "metadata": {},
   "outputs": [],
   "source": [
    "y = np.array([12,0,5,10,12])\n"
   ]
  },
  {
   "cell_type": "markdown",
   "id": "de995bde-e3f3-44c5-84f7-366eaf0a00c7",
   "metadata": {},
   "source": [
    "## Matrices(2D tensors):"
   ]
  },
  {
   "cell_type": "code",
   "execution_count": 25,
   "id": "5060f5e6-3cc4-4827-a00d-2c640704e347",
   "metadata": {},
   "outputs": [],
   "source": [
    "x = np.array([[5, 78, 2, 34, 0],\n",
    "              [6, 79, 3, 35, 1],\n",
    "              [7, 80, 4, 36, 2]])"
   ]
  },
  {
   "cell_type": "code",
   "execution_count": 26,
   "id": "e1281daf-60d4-48af-9a81-578336d5883c",
   "metadata": {},
   "outputs": [
    {
     "data": {
      "text/plain": [
       "2"
      ]
     },
     "execution_count": 26,
     "metadata": {},
     "output_type": "execute_result"
    }
   ],
   "source": [
    "x.ndim"
   ]
  },
  {
   "cell_type": "markdown",
   "id": "6b03227e-eb7e-4f5d-bca2-cd96d5c7171c",
   "metadata": {},
   "source": [
    "## Rank n tensors:"
   ]
  },
  {
   "cell_type": "code",
   "execution_count": 27,
   "id": "71d1cb8b-43b7-4ea3-b3c3-8aae6ca0b5f7",
   "metadata": {},
   "outputs": [],
   "source": [
    "x = np.array([[[5, 78, 2, 34, 0],\n",
    "               [6, 79, 3, 35, 1],\n",
    "               [7, 80, 4, 36, 2]],\n",
    "              [[5, 78, 2, 34, 0],\n",
    "               [6, 79, 3, 35, 1],\n",
    "               [7, 80, 4, 36, 2]],\n",
    "              [[5, 78, 2, 34, 0],\n",
    "               [6, 79, 3, 35, 1],\n",
    "               [7, 80, 4, 36, 2]]])"
   ]
  },
  {
   "cell_type": "code",
   "execution_count": 28,
   "id": "989c4272-240a-4977-b683-d96cd6a2456b",
   "metadata": {},
   "outputs": [
    {
     "data": {
      "text/plain": [
       "3"
      ]
     },
     "execution_count": 28,
     "metadata": {},
     "output_type": "execute_result"
    }
   ],
   "source": [
    "x.ndim"
   ]
  },
  {
   "cell_type": "markdown",
   "id": "7f0ae9fb-0211-45ed-96c6-c6f9b68abe84",
   "metadata": {},
   "source": [
    "## Tensors of Mnist:"
   ]
  },
  {
   "cell_type": "code",
   "execution_count": 29,
   "id": "510879da-61cf-4024-a520-737a5e025853",
   "metadata": {},
   "outputs": [],
   "source": [
    "from tensorflow.keras.datasets import mnist\n",
    "(train_images, train_labels), (test_images, test_labels) = mnist.load_data()"
   ]
  },
  {
   "cell_type": "code",
   "execution_count": 30,
   "id": "3ab6b492-7931-46fb-ae41-c58e30875e78",
   "metadata": {},
   "outputs": [
    {
     "data": {
      "text/plain": [
       "3"
      ]
     },
     "execution_count": 30,
     "metadata": {},
     "output_type": "execute_result"
    }
   ],
   "source": [
    "train_images.ndim"
   ]
  },
  {
   "cell_type": "code",
   "execution_count": 31,
   "id": "1d7a4144-ffca-4da1-9bbb-335967688c38",
   "metadata": {},
   "outputs": [
    {
     "data": {
      "text/plain": [
       "(60000, 28, 28)"
      ]
     },
     "execution_count": 31,
     "metadata": {},
     "output_type": "execute_result"
    }
   ],
   "source": [
    "train_images.shape"
   ]
  },
  {
   "cell_type": "code",
   "execution_count": 32,
   "id": "95533d7a-2430-4f86-bba9-18179c80aec6",
   "metadata": {},
   "outputs": [
    {
     "data": {
      "text/plain": [
       "dtype('uint8')"
      ]
     },
     "execution_count": 32,
     "metadata": {},
     "output_type": "execute_result"
    }
   ],
   "source": [
    "train_images.dtype"
   ]
  },
  {
   "cell_type": "code",
   "execution_count": 33,
   "id": "7818ed82-4065-425c-acae-b76fbed1f910",
   "metadata": {},
   "outputs": [
    {
     "data": {
      "image/png": "[encoded data removed]",
      "text/plain": [
       "<Figure size 640x480 with 1 Axes>"
      ]
     },
     "metadata": {},
     "output_type": "display_data"
    }
   ],
   "source": [
    "import matplotlib.pyplot as plt\n",
    "digit = train_images[4] \n",
    "plt.imshow(digit, cmap=plt.cm.binary) \n",
    "plt.show()"
   ]
  },
  {
   "cell_type": "code",
   "execution_count": 34,
   "id": "0bd12c18-40bb-4b83-b9e2-f5382d221322",
   "metadata": {},
   "outputs": [
    {
     "data": {
      "text/plain": [
       "9"
      ]
     },
     "execution_count": 34,
     "metadata": {},
     "output_type": "execute_result"
    }
   ],
   "source": [
    "train_labels[4]"
   ]
  },
  {
   "cell_type": "markdown",
   "id": "32e4cc76-6f4b-4376-9e09-09cf9d81b6e5",
   "metadata": {},
   "source": [
    "## Tensor Slicing:"
   ]
  },
  {
   "cell_type": "code",
   "execution_count": 36,
   "id": "0f34f5a6-f466-4e62-a867-9fc054b0cb0b",
   "metadata": {},
   "outputs": [
    {
     "data": {
      "text/plain": [
       "(90, 28, 28)"
      ]
     },
     "execution_count": 36,
     "metadata": {},
     "output_type": "execute_result"
    }
   ],
   "source": [
    "my_slice = train_images[10:100]\n",
    "my_slice.shape"
   ]
  },
  {
   "cell_type": "code",
   "execution_count": 37,
   "id": "3961b416-3a7a-4ea1-b35c-4feb60a32815",
   "metadata": {},
   "outputs": [
    {
     "data": {
      "text/plain": [
       "(90, 28, 28)"
      ]
     },
     "execution_count": 37,
     "metadata": {},
     "output_type": "execute_result"
    }
   ],
   "source": [
    "my_slice = train_images[10:100, :, :]\n",
    "my_slice.shape"
   ]
  },
  {
   "cell_type": "code",
   "execution_count": 38,
   "id": "252c1210-304c-4c26-85be-f522a66e2bbc",
   "metadata": {},
   "outputs": [
    {
     "data": {
      "text/plain": [
       "(90, 28, 28)"
      ]
     },
     "execution_count": 38,
     "metadata": {},
     "output_type": "execute_result"
    }
   ],
   "source": [
    "my_slice = train_images[10:100, 0:28, 0:28]\n",
    "my_slice.shape"
   ]
  },
  {
   "cell_type": "code",
   "execution_count": 41,
   "id": "e4078744-14c8-450d-8f4d-a8b3a0721c0c",
   "metadata": {},
   "outputs": [],
   "source": [
    "## Select the bottom 14*14 pixels of each image in our training set\n",
    "my_slice = train_images[:, 14:, 14:]\n",
    "## Select the center 14*14 pixels of each image in our training set\n",
    "my_slice = train_images[:, 7:-7, 7:-7]"
   ]
  },
  {
   "cell_type": "markdown",
   "id": "567f6d15-f6c9-4fe6-9df7-9e189ef63057",
   "metadata": {},
   "source": [
    "## Data Bastches:"
   ]
  },
  {
   "cell_type": "markdown",
   "id": "d444788c-8f29-4d91-bea1-f0cf774246c3",
   "metadata": {},
   "source": [
    "#### The first axis (axis 0, because indexing starts at 0) in all data tensors you’ll come across in deep learning will be the samples axis.\n",
    "#### In addition, deep learning models don’t process an entire dataset at once; rather, they break the data into small batches"
   ]
  },
  {
   "cell_type": "code",
   "execution_count": 42,
   "id": "db39caf4-2b01-44eb-9acd-9ee4a7439045",
   "metadata": {},
   "outputs": [],
   "source": [
    "batch_1 = train_images[:128]"
   ]
  },
  {
   "cell_type": "code",
   "execution_count": 43,
   "id": "708b9ec0-d636-4832-bbeb-840e7c6cbe76",
   "metadata": {},
   "outputs": [],
   "source": [
    "batch_2 = train_images[128:256]"
   ]
  },
  {
   "cell_type": "code",
   "execution_count": 44,
   "id": "287150f4-af66-4766-869b-eb22ea5eb443",
   "metadata": {},
   "outputs": [],
   "source": [
    "n=3\n",
    "batch_n = train_images[128 * n:128 * (n + 1)]\n"
   ]
  },
  {
   "cell_type": "markdown",
   "id": "27a32602-cc73-4cf2-bc00-ec6bc3a1862c",
   "metadata": {},
   "source": [
    "## Naiive Relu:"
   ]
  },
  {
   "cell_type": "code",
   "execution_count": 50,
   "id": "50842733-f721-47f2-9401-e214e2fcf76a",
   "metadata": {},
   "outputs": [],
   "source": [
    "def naive_relu(x):\n",
    "    assert len(x.shape) == 2\n",
    "    x = x.copy()\n",
    "    for i in range(x.shape[0]):\n",
    "        for j in range(x.shape[1]):\n",
    "            x[i, j] = max(x[i, j], 0)\n",
    "    return x"
   ]
  },
  {
   "cell_type": "code",
   "execution_count": 51,
   "id": "53959a01-b847-4c17-97b2-3ff5ce583f3b",
   "metadata": {},
   "outputs": [],
   "source": [
    "def naive_add(x, y):\n",
    "    assert len(x.shape) == 2 \n",
    "    assert x.shape == y.shape \n",
    "    x = x.copy()\n",
    "    for i in range(x.shape[0]):\n",
    "        for j in range(x.shape[1]): \n",
    "            x[i, j] += y[i, j]\n",
    "    \n",
    "    return x"
   ]
  },
  {
   "cell_type": "code",
   "execution_count": 52,
   "id": "54164550-e9bb-4b92-a1d9-546e06d18ca6",
   "metadata": {},
   "outputs": [],
   "source": [
    "import numpy as np \n",
    "z=x+y\n",
    "z = np.maximum(z, 0.)"
   ]
  },
  {
   "cell_type": "code",
   "execution_count": 53,
   "id": "a8a81a99-f3a6-4067-a11f-a8ba813dbc57",
   "metadata": {},
   "outputs": [
    {
     "name": "stdout",
     "output_type": "stream",
     "text": [
      "Took: 0.01 s\n"
     ]
    }
   ],
   "source": [
    "import time\n",
    "x = np.random.random((20, 100))\n",
    "y = np.random.random((20, 100))\n",
    "t0 = time.time()\n",
    "for _ in range(1000):\n",
    "    z=x+y\n",
    "    z = np.maximum(z, 0.)\n",
    "print(\"Took: {0:.2f} s\".format(time.time() - t0))"
   ]
  },
  {
   "cell_type": "code",
   "execution_count": 54,
   "id": "a7cdf49a-6a8a-4b14-abfb-62a1e6458ddb",
   "metadata": {},
   "outputs": [
    {
     "name": "stdout",
     "output_type": "stream",
     "text": [
      "Took: 2.33 s\n"
     ]
    }
   ],
   "source": [
    "t0 = time.time()\n",
    "for _ in range(1000):\n",
    "    z = naive_add(x, y)\n",
    "    z = naive_relu(z)\n",
    "print(\"Took: {0:.2f} s\".format(time.time() - t0))"
   ]
  },
  {
   "cell_type": "markdown",
   "id": "1a5e2553-9453-42ec-b692-f1ccda087446",
   "metadata": {},
   "source": [
    "## Broadcasting:"
   ]
  },
  {
   "cell_type": "code",
   "execution_count": 55,
   "id": "0f1ba2af-32be-44b2-82c0-8f46478549b9",
   "metadata": {},
   "outputs": [],
   "source": [
    "import numpy as np\n",
    "X = np.random.random((32, 10)) \n",
    "y = np.random.random((10,))"
   ]
  },
  {
   "cell_type": "code",
   "execution_count": 56,
   "id": "49a61bf1-ed13-4b86-91c5-c3af012afd31",
   "metadata": {},
   "outputs": [
    {
     "data": {
      "text/plain": [
       "(10,)"
      ]
     },
     "execution_count": 56,
     "metadata": {},
     "output_type": "execute_result"
    }
   ],
   "source": [
    "y.shape"
   ]
  },
  {
   "cell_type": "code",
   "execution_count": 57,
   "id": "c9c16a6a-4a7f-432f-91ae-8589bbfa1a23",
   "metadata": {},
   "outputs": [],
   "source": [
    "y = np.expand_dims(y, axis=0)"
   ]
  },
  {
   "cell_type": "code",
   "execution_count": 58,
   "id": "d7aba4f3-c6a4-46a8-93d3-7ed322c22ebd",
   "metadata": {},
   "outputs": [
    {
     "data": {
      "text/plain": [
       "(1, 10)"
      ]
     },
     "execution_count": 58,
     "metadata": {},
     "output_type": "execute_result"
    }
   ],
   "source": [
    "y.shape"
   ]
  },
  {
   "cell_type": "code",
   "execution_count": 59,
   "id": "c5843a2b-7005-4182-a6b5-407e9d871670",
   "metadata": {},
   "outputs": [],
   "source": [
    "Y = np.concatenate([y] * 32, axis=0)"
   ]
  },
  {
   "cell_type": "code",
   "execution_count": 60,
   "id": "46e26db2-5b26-457a-83cf-12f46daf1aae",
   "metadata": {},
   "outputs": [
    {
     "data": {
      "text/plain": [
       "(32, 10)"
      ]
     },
     "execution_count": 60,
     "metadata": {},
     "output_type": "execute_result"
    }
   ],
   "source": [
    "Y.shape"
   ]
  },
  {
   "cell_type": "code",
   "execution_count": 61,
   "id": "59d0e465-ebe6-429a-a3fe-b9e61a481553",
   "metadata": {},
   "outputs": [],
   "source": [
    "def naive_add_matrix_and_vector(x, y): \n",
    "    assert len(x.shape) == 2\n",
    "    assert len(y.shape) == 1\n",
    "    assert x.shape[1] == y.shape[0]\n",
    "    x = x.copy()\n",
    "    for i in range(x.shape[0]):\n",
    "        for j in range(x.shape[1]):\n",
    "            x[i, j] += y[j]\n",
    "    return x"
   ]
  },
  {
   "cell_type": "code",
   "execution_count": 65,
   "id": "5763536f-835d-4e67-8e12-c6883b645ed5",
   "metadata": {},
   "outputs": [],
   "source": [
    "import numpy as np\n",
    "x = np.random.random((64, 3, 32, 10)) \n",
    "y = np.random.random((32, 10))\n",
    "z = np.maximum(x, y)"
   ]
  },
  {
   "cell_type": "code",
   "execution_count": 66,
   "id": "a793da61-a271-42ad-93cd-ad205f06a7ce",
   "metadata": {},
   "outputs": [
    {
     "data": {
      "text/plain": [
       "(64, 3, 32, 10)"
      ]
     },
     "execution_count": 66,
     "metadata": {},
     "output_type": "execute_result"
    }
   ],
   "source": [
    "z.shape"
   ]
  },
  {
   "cell_type": "code",
   "execution_count": 72,
   "id": "0fa5a368-01bf-4a24-966f-64adc84daff5",
   "metadata": {},
   "outputs": [
    {
     "data": {
      "text/plain": [
       "array([[[[0.8482665 , 0.54412911, 0.55236003, ..., 0.91107427,\n",
       "          0.69740161, 0.82043748],\n",
       "         [0.76716503, 0.32371373, 0.85401725, ..., 0.98722338,\n",
       "          0.85503437, 0.92781201],\n",
       "         [0.67588761, 0.87007865, 0.62077226, ..., 0.57822799,\n",
       "          0.76166087, 0.54363613],\n",
       "         ...,\n",
       "         [0.31759272, 0.7975862 , 0.53198244, ..., 0.82614433,\n",
       "          0.78617574, 0.96881523],\n",
       "         [0.65007764, 0.6759021 , 0.90243086, ..., 0.78628537,\n",
       "          0.70985574, 0.45379342],\n",
       "         [0.83842497, 0.41005399, 0.53664299, ..., 0.80352834,\n",
       "          0.97794644, 0.84193396]],\n",
       "\n",
       "        [[0.8482665 , 0.54412911, 0.55236003, ..., 0.91107427,\n",
       "          0.95772082, 0.68916446],\n",
       "         [0.76716503, 0.74938347, 0.85401725, ..., 0.98722338,\n",
       "          0.70629869, 0.77298098],\n",
       "         [0.67588761, 0.87007865, 0.51875432, ..., 0.62355824,\n",
       "          0.59925894, 0.89663142],\n",
       "         ...,\n",
       "         [0.45099087, 0.40585711, 0.9565878 , ..., 0.31166892,\n",
       "          0.75943198, 0.93332162],\n",
       "         [0.72653279, 0.6759021 , 0.4576653 , ..., 0.78628537,\n",
       "          0.45122207, 0.2827364 ],\n",
       "         [0.69806694, 0.21475758, 0.87231355, ..., 0.80352834,\n",
       "          0.99684929, 0.96015096]],\n",
       "\n",
       "        [[0.93514612, 0.54412911, 0.99494027, ..., 0.91107427,\n",
       "          0.53697169, 0.19825498],\n",
       "         [0.76716503, 0.31329127, 0.85401725, ..., 0.98722338,\n",
       "          0.70629869, 0.44649227],\n",
       "         [0.67588761, 0.87007865, 0.51875432, ..., 0.60891832,\n",
       "          0.59925894, 0.93694057],\n",
       "         ...,\n",
       "         [0.31759272, 0.39010182, 0.29510671, ..., 0.27545248,\n",
       "          0.57293024, 0.93332162],\n",
       "         [0.83906893, 0.6759021 , 0.30718997, ..., 0.78628537,\n",
       "          0.88939694, 0.96461174],\n",
       "         [0.69806694, 0.21475758, 0.53664299, ..., 0.80352834,\n",
       "          0.97886083, 0.96713447]]],\n",
       "\n",
       "\n",
       "       [[[0.8482665 , 0.70814792, 0.73514176, ..., 0.91107427,\n",
       "          0.82133518, 0.95599878],\n",
       "         [0.76716503, 0.87044898, 0.85401725, ..., 0.98722338,\n",
       "          0.70629869, 0.81186951],\n",
       "         [0.8697603 , 0.87007865, 0.89851979, ..., 0.97294803,\n",
       "          0.66112142, 0.37780221],\n",
       "         ...,\n",
       "         [0.44798209, 0.39010182, 0.30113006, ..., 0.27545248,\n",
       "          0.55003537, 0.93332162],\n",
       "         [0.78799879, 0.6759021 , 0.91936689, ..., 0.78628537,\n",
       "          0.60947434, 0.86755348],\n",
       "         [0.69806694, 0.25360226, 0.82993909, ..., 0.80352834,\n",
       "          0.97794644, 0.84193396]],\n",
       "\n",
       "        [[0.8482665 , 0.54412911, 0.55236003, ..., 0.91107427,\n",
       "          0.25771937, 0.19825498],\n",
       "         [0.76716503, 0.41319394, 0.85401725, ..., 0.98722338,\n",
       "          0.70629869, 0.51089942],\n",
       "         [0.67588761, 0.87007865, 0.51875432, ..., 0.629642  ,\n",
       "          0.81584264, 0.32534671],\n",
       "         ...,\n",
       "         [0.31759272, 0.67923221, 0.7638051 , ..., 0.94668285,\n",
       "          0.77242488, 0.93332162],\n",
       "         [0.72608164, 0.6759021 , 0.84692489, ..., 0.78628537,\n",
       "          0.45122207, 0.7312392 ],\n",
       "         [0.69806694, 0.34598882, 0.59737056, ..., 0.80352834,\n",
       "          0.97794644, 0.84193396]],\n",
       "\n",
       "        [[0.8482665 , 0.54412911, 0.72153587, ..., 0.91107427,\n",
       "          0.45479505, 0.19825498],\n",
       "         [0.76716503, 0.56618793, 0.85401725, ..., 0.98722338,\n",
       "          0.89417326, 0.6468756 ],\n",
       "         [0.83790509, 0.87007865, 0.78309776, ..., 0.57822799,\n",
       "          0.64208919, 0.41225138],\n",
       "         ...,\n",
       "         [0.92461538, 0.39010182, 0.06550238, ..., 0.81513489,\n",
       "          0.55003537, 0.93332162],\n",
       "         [0.41822932, 0.80674531, 0.93913518, ..., 0.78628537,\n",
       "          0.45122207, 0.50820882],\n",
       "         [0.69806694, 0.30984179, 0.53664299, ..., 0.88518129,\n",
       "          0.97794644, 0.84193396]]],\n",
       "\n",
       "\n",
       "       [[[0.91052085, 0.54412911, 0.55236003, ..., 0.91107427,\n",
       "          0.82065477, 0.90537554],\n",
       "         [0.76716503, 0.37522201, 0.85401725, ..., 0.98722338,\n",
       "          0.78482549, 0.69261164],\n",
       "         [0.67588761, 0.87007865, 0.71729352, ..., 0.57822799,\n",
       "          0.59925894, 0.26609011],\n",
       "         ...,\n",
       "         [0.86085255, 0.74770746, 0.6842716 , ..., 0.27545248,\n",
       "          0.55003537, 0.93332162],\n",
       "         [0.41822932, 0.6759021 , 0.36952056, ..., 0.95323557,\n",
       "          0.96118211, 0.99669309],\n",
       "         [0.87499399, 0.93196417, 0.89372264, ..., 0.80352834,\n",
       "          0.97794644, 0.84193396]],\n",
       "\n",
       "        [[0.8482665 , 0.54412911, 0.55236003, ..., 0.91107427,\n",
       "          0.25771937, 0.85920004],\n",
       "         [0.86687559, 0.30337662, 0.85401725, ..., 0.98722338,\n",
       "          0.71626975, 0.44649227],\n",
       "         [0.67588761, 0.87007865, 0.51875432, ..., 0.57822799,\n",
       "          0.59925894, 0.18087528],\n",
       "         ...,\n",
       "         [0.42106239, 0.57768819, 0.09521226, ..., 0.35308949,\n",
       "          0.55003537, 0.93332162],\n",
       "         [0.41822932, 0.6759021 , 0.11901052, ..., 0.78628537,\n",
       "          0.57525093, 0.63715742],\n",
       "         [0.69806694, 0.23486791, 0.85849836, ..., 0.80352834,\n",
       "          0.97794644, 0.84193396]],\n",
       "\n",
       "        [[0.8482665 , 0.84747317, 0.55236003, ..., 0.91107427,\n",
       "          0.25771937, 0.45613206],\n",
       "         [0.86957946, 0.91591275, 0.85401725, ..., 0.98722338,\n",
       "          0.70629869, 0.44649227],\n",
       "         [0.67588761, 0.92212253, 0.64789273, ..., 0.57822799,\n",
       "          0.59925894, 0.97503836],\n",
       "         ...,\n",
       "         [0.65251749, 0.39010182, 0.21513213, ..., 0.93690638,\n",
       "          0.96226041, 0.93332162],\n",
       "         [0.49844866, 0.6759021 , 0.86875842, ..., 0.78628537,\n",
       "          0.99930242, 0.2827364 ],\n",
       "         [0.69806694, 0.5548399 , 0.53664299, ..., 0.80352834,\n",
       "          0.97794644, 0.84193396]]],\n",
       "\n",
       "\n",
       "       ...,\n",
       "\n",
       "\n",
       "       [[[0.8482665 , 0.54412911, 0.55236003, ..., 0.95178973,\n",
       "          0.25771937, 0.23848615],\n",
       "         [0.76716503, 0.14147547, 0.85401725, ..., 0.98722338,\n",
       "          0.70629869, 0.82049066],\n",
       "         [0.97369135, 0.87007865, 0.61161649, ..., 0.57822799,\n",
       "          0.59925894, 0.24097879],\n",
       "         ...,\n",
       "         [0.88199571, 0.39010182, 0.57368226, ..., 0.66321265,\n",
       "          0.55003537, 0.93332162],\n",
       "         [0.65033562, 0.76374424, 0.54573462, ..., 0.78628537,\n",
       "          0.45122207, 0.84932372],\n",
       "         [0.84327618, 0.80528979, 0.9485088 , ..., 0.83871514,\n",
       "          0.97794644, 0.84193396]],\n",
       "\n",
       "        [[0.8482665 , 0.91609467, 0.55236003, ..., 0.94262847,\n",
       "          0.25771937, 0.19825498],\n",
       "         [0.76716503, 0.05648912, 0.85401725, ..., 0.98722338,\n",
       "          0.73733145, 0.85085589],\n",
       "         [0.77750535, 0.87007865, 0.58405713, ..., 0.85217707,\n",
       "          0.85440045, 0.69406789],\n",
       "         ...,\n",
       "         [0.54479711, 0.39010182, 0.0749559 , ..., 0.56217073,\n",
       "          0.55003537, 0.93332162],\n",
       "         [0.41822932, 0.6759021 , 0.73914481, ..., 0.78628537,\n",
       "          0.45122207, 0.47276627],\n",
       "         [0.96503107, 0.59894151, 0.53664299, ..., 0.80352834,\n",
       "          0.97794644, 0.84193396]],\n",
       "\n",
       "        [[0.8482665 , 0.58840114, 0.55236003, ..., 0.91107427,\n",
       "          0.46480731, 0.42809261],\n",
       "         [0.76716503, 0.44954968, 0.85401725, ..., 0.98722338,\n",
       "          0.74121945, 0.44649227],\n",
       "         [0.77862769, 0.87007865, 0.87384898, ..., 0.85512444,\n",
       "          0.97077978, 0.1451572 ],\n",
       "         ...,\n",
       "         [0.6829032 , 0.57345448, 0.06550238, ..., 0.91373185,\n",
       "          0.76682232, 0.96222077],\n",
       "         [0.89946916, 0.89704038, 0.51772773, ..., 0.78628537,\n",
       "          0.84311745, 0.42101369],\n",
       "         [0.76279804, 0.51202109, 0.62867888, ..., 0.80352834,\n",
       "          0.97794644, 0.84193396]]],\n",
       "\n",
       "\n",
       "       [[[0.8482665 , 0.86704082, 0.5853803 , ..., 0.91107427,\n",
       "          0.67935117, 0.61842643],\n",
       "         [0.96493353, 0.04634614, 0.85401725, ..., 0.98722338,\n",
       "          0.70629869, 0.78378965],\n",
       "         [0.71920121, 0.87007865, 0.51875432, ..., 0.57822799,\n",
       "          0.59925894, 0.57321481],\n",
       "         ...,\n",
       "         [0.35837594, 0.52236502, 0.88150354, ..., 0.64532196,\n",
       "          0.55003537, 0.93332162],\n",
       "         [0.41822932, 0.6759021 , 0.75332729, ..., 0.87688339,\n",
       "          0.45122207, 0.2827364 ],\n",
       "         [0.98719558, 0.85281865, 0.56010036, ..., 0.80352834,\n",
       "          0.97794644, 0.94889586]],\n",
       "\n",
       "        [[0.8482665 , 0.95231743, 0.55236003, ..., 0.91107427,\n",
       "          0.87156486, 0.57405749],\n",
       "         [0.875737  , 0.69020051, 0.85401725, ..., 0.98722338,\n",
       "          0.8703942 , 0.99504922],\n",
       "         [0.71494912, 0.87007865, 0.51875432, ..., 0.91636864,\n",
       "          0.68195175, 0.08604047],\n",
       "         ...,\n",
       "         [0.4741353 , 0.39010182, 0.38649088, ..., 0.27545248,\n",
       "          0.55003537, 0.93332162],\n",
       "         [0.64511826, 0.6759021 , 0.71377222, ..., 0.78628537,\n",
       "          0.45122207, 0.54191685],\n",
       "         [0.69806694, 0.36369146, 0.53664299, ..., 0.80352834,\n",
       "          0.97794644, 0.84193396]],\n",
       "\n",
       "        [[0.8482665 , 0.91120415, 0.84886858, ..., 0.91107427,\n",
       "          0.26842949, 0.37202097],\n",
       "         [0.79166331, 0.85386226, 0.85401725, ..., 0.98722338,\n",
       "          0.70629869, 0.51775399],\n",
       "         [0.67588761, 0.87007865, 0.51875432, ..., 0.57822799,\n",
       "          0.59925894, 0.68012097],\n",
       "         ...,\n",
       "         [0.31759272, 0.79389257, 0.06550238, ..., 0.27545248,\n",
       "          0.55003537, 0.93332162],\n",
       "         [0.76172872, 0.6759021 , 0.29392765, ..., 0.90257468,\n",
       "          0.77561599, 0.2827364 ],\n",
       "         [0.80450712, 0.96859789, 0.53664299, ..., 0.80352834,\n",
       "          0.97794644, 0.84193396]]],\n",
       "\n",
       "\n",
       "       [[[0.8482665 , 0.63156675, 0.57964795, ..., 0.91107427,\n",
       "          0.25771937, 0.19825498],\n",
       "         [0.94918143, 0.12935002, 0.85401725, ..., 0.99950496,\n",
       "          0.91068785, 0.44649227],\n",
       "         [0.67588761, 0.87007865, 0.99235882, ..., 0.57822799,\n",
       "          0.86358763, 0.61019575],\n",
       "         ...,\n",
       "         [0.97142582, 0.48055272, 0.9397549 , ..., 0.34025055,\n",
       "          0.83695468, 0.93332162],\n",
       "         [0.41822932, 0.6759021 , 0.58330485, ..., 0.78628537,\n",
       "          0.57133395, 0.2827364 ],\n",
       "         [0.69806694, 0.97183376, 0.53664299, ..., 0.96535568,\n",
       "          0.97794644, 0.84193396]],\n",
       "\n",
       "        [[0.90157831, 0.69661846, 0.55236003, ..., 0.91107427,\n",
       "          0.76745749, 0.48711093],\n",
       "         [0.76716503, 0.91123675, 0.85401725, ..., 0.98722338,\n",
       "          0.70629869, 0.7642216 ],\n",
       "         [0.67588761, 0.87007865, 0.89424889, ..., 0.57822799,\n",
       "          0.65279256, 0.62025   ],\n",
       "         ...,\n",
       "         [0.92803507, 0.9287617 , 0.88610844, ..., 0.27545248,\n",
       "          0.57313993, 0.93332162],\n",
       "         [0.77086159, 0.6759021 , 0.16996769, ..., 0.78628537,\n",
       "          0.45122207, 0.39539829],\n",
       "         [0.87630016, 0.21475758, 0.53664299, ..., 0.80352834,\n",
       "          0.97794644, 0.84193396]],\n",
       "\n",
       "        [[0.8482665 , 0.54412911, 0.55236003, ..., 0.91107427,\n",
       "          0.25771937, 0.5271332 ],\n",
       "         [0.76716503, 0.79329462, 0.85401725, ..., 0.98722338,\n",
       "          0.7584613 , 0.56265043],\n",
       "         [0.67588761, 0.87007865, 0.51875432, ..., 0.57822799,\n",
       "          0.59925894, 0.05682951],\n",
       "         ...,\n",
       "         [0.31759272, 0.39010182, 0.53173745, ..., 0.27545248,\n",
       "          0.55003537, 0.93332162],\n",
       "         [0.5472038 , 0.6759021 , 0.44472471, ..., 0.78628537,\n",
       "          0.87140882, 0.39590387],\n",
       "         [0.71959092, 0.6376734 , 0.53664299, ..., 0.80352834,\n",
       "          0.97794644, 0.87615955]]]])"
      ]
     },
     "execution_count": 72,
     "metadata": {},
     "output_type": "execute_result"
    }
   ],
   "source": [
    "z"
   ]
  },
  {
   "cell_type": "markdown",
   "id": "cf4ccff4-c365-4a49-bae2-121e26350f8b",
   "metadata": {},
   "source": [
    "## Tensor Product:"
   ]
  },
  {
   "cell_type": "code",
   "execution_count": 73,
   "id": "8c855adf-bd72-4c27-a2fa-dd1d6d0669e1",
   "metadata": {},
   "outputs": [],
   "source": [
    "x = np.random.random((32,))\n",
    "y = np.random.random((32,))\n",
    "z = np.dot(x, y)"
   ]
  },
  {
   "cell_type": "code",
   "execution_count": 74,
   "id": "3c0a6ff6-6c1f-472e-9971-ca4e17e75322",
   "metadata": {},
   "outputs": [
    {
     "data": {
      "text/plain": [
       "7.820588069491603"
      ]
     },
     "execution_count": 74,
     "metadata": {},
     "output_type": "execute_result"
    }
   ],
   "source": [
    "z"
   ]
  },
  {
   "cell_type": "code",
   "execution_count": 75,
   "id": "d183a815-7098-44b7-898b-24da4df69e77",
   "metadata": {},
   "outputs": [],
   "source": [
    "def naive_vector_dot(x, y):\n",
    "    assert len(x.shape) == 1\n",
    "    assert len(y.shape) == 1\n",
    "    assert x.shape[0] == y.shape[0] \n",
    "    z = 0.\n",
    "    for i in range(x.shape[0]): \n",
    "        z += x[i] * y[i]\n",
    "    return z"
   ]
  },
  {
   "cell_type": "code",
   "execution_count": 76,
   "id": "733c3056-62ee-4d82-bc30-d9a9458b95c7",
   "metadata": {},
   "outputs": [
    {
     "data": {
      "text/plain": [
       "7.820588069491601"
      ]
     },
     "execution_count": 76,
     "metadata": {},
     "output_type": "execute_result"
    }
   ],
   "source": [
    "naive_vector_dot(x, y)"
   ]
  },
  {
   "cell_type": "code",
   "execution_count": 78,
   "id": "4c7272c2-038c-4aeb-9e5e-97354addda91",
   "metadata": {},
   "outputs": [],
   "source": [
    "def naive_matrix_vector_dot(x, y): \n",
    "    assert len(x.shape) == 2\n",
    "    assert len(y.shape) == 1\n",
    "    assert x.shape[1] == y.shape[0]\n",
    "    z = np.zeros(x.shape[0])\n",
    "    for i in range(x.shape[0]):\n",
    "        z[i] = naive_vector_dot(x[i, :], y) \n",
    "    return z"
   ]
  },
  {
   "cell_type": "code",
   "execution_count": 79,
   "id": "41f56416-b348-4acc-bfd4-ae66453bdbb3",
   "metadata": {},
   "outputs": [],
   "source": [
    "def naive_matrix_dot(x, y):\n",
    "    assert len(x.shape) == 2\n",
    "    assert len(y.shape) == 2\n",
    "    assert x.shape[1] == y.shape[0]\n",
    "    z = np.zeros((x.shape[0], y.shape[1])) \n",
    "    for i in range(x.shape[0]):\n",
    "        for j in range(y.shape[1]):\n",
    "            row_x = x[i, :]\n",
    "            column_y = y[:, j]\n",
    "            z[i, j] = naive_vector_dot(row_x, column_y)\n",
    "    return z"
   ]
  },
  {
   "cell_type": "markdown",
   "id": "f6f33818-70c0-4c83-93d7-bdac89850639",
   "metadata": {},
   "source": [
    "## TENSOR RESHAPING:"
   ]
  },
  {
   "cell_type": "code",
   "execution_count": 83,
   "id": "3b44d261-3e79-4b01-8eac-db78f9b4cbe0",
   "metadata": {},
   "outputs": [],
   "source": [
    "x = np.array([[0., 1.],\n",
    "              [2., 3.],\n",
    "              [4., 5.]])\n"
   ]
  },
  {
   "cell_type": "code",
   "execution_count": 84,
   "id": "208740fb-4983-4145-83ca-5f78741925a4",
   "metadata": {},
   "outputs": [
    {
     "data": {
      "text/plain": [
       "(3, 2)"
      ]
     },
     "execution_count": 84,
     "metadata": {},
     "output_type": "execute_result"
    }
   ],
   "source": [
    "x.shape"
   ]
  },
  {
   "cell_type": "code",
   "execution_count": 85,
   "id": "b03f20e2-bb66-4fb9-babc-a23e9c1fe8e5",
   "metadata": {},
   "outputs": [],
   "source": [
    "x = x.reshape((6, 1))"
   ]
  },
  {
   "cell_type": "code",
   "execution_count": 87,
   "id": "216c5b68-b790-4fd4-84b8-b520a3de8dcd",
   "metadata": {},
   "outputs": [
    {
     "data": {
      "text/plain": [
       "array([[0.],\n",
       "       [1.],\n",
       "       [2.],\n",
       "       [3.],\n",
       "       [4.],\n",
       "       [5.]])"
      ]
     },
     "execution_count": 87,
     "metadata": {},
     "output_type": "execute_result"
    }
   ],
   "source": [
    "x"
   ]
  },
  {
   "cell_type": "code",
   "execution_count": 88,
   "id": "5009198c-7a8a-4f48-892d-b27369f4f1ba",
   "metadata": {},
   "outputs": [
    {
     "data": {
      "text/plain": [
       "array([[0., 1., 2.],\n",
       "       [3., 4., 5.]])"
      ]
     },
     "execution_count": 88,
     "metadata": {},
     "output_type": "execute_result"
    }
   ],
   "source": [
    "x = x.reshape(2,3)\n",
    "x"
   ]
  },
  {
   "cell_type": "code",
   "execution_count": 89,
   "id": "794c430f-0c07-43f6-8f65-477b8274711c",
   "metadata": {},
   "outputs": [
    {
     "data": {
      "text/plain": [
       "(20, 300)"
      ]
     },
     "execution_count": 89,
     "metadata": {},
     "output_type": "execute_result"
    }
   ],
   "source": [
    "x = np.zeros((300, 20))\n",
    "x = x.transpose()\n",
    "x.shape"
   ]
  },
  {
   "cell_type": "markdown",
   "id": "5055cf3b-4b03-4e2f-b6cd-db89d74b37ad",
   "metadata": {},
   "source": [
    "## Gradient Tape in TensorFlow:"
   ]
  },
  {
   "cell_type": "code",
   "execution_count": 90,
   "id": "b82c724d-5ba4-42ee-a4cf-05ca52864a8c",
   "metadata": {},
   "outputs": [],
   "source": [
    "import tensorflow as tf\n",
    "x = tf.Variable(0.)\n",
    "with tf.GradientTape() as tape:\n",
    "    y=2*x+3\n",
    "grad_of_y_wrt_x = tape.gradient(y, x)"
   ]
  },
  {
   "cell_type": "code",
   "execution_count": 91,
   "id": "6f5afe03-c5fd-4368-b724-6431e3e6fb1f",
   "metadata": {},
   "outputs": [
    {
     "data": {
      "text/plain": [
       "<tf.Tensor: shape=(), dtype=float32, numpy=2.0>"
      ]
     },
     "execution_count": 91,
     "metadata": {},
     "output_type": "execute_result"
    }
   ],
   "source": [
    "grad_of_y_wrt_x"
   ]
  },
  {
   "cell_type": "code",
   "execution_count": 92,
   "id": "a89a224d-3e8f-4264-b980-0acec8001d4b",
   "metadata": {},
   "outputs": [],
   "source": [
    "## Works also with lists\n",
    "W = tf.Variable(tf.random.uniform((2, 2))) \n",
    "b = tf.Variable(tf.zeros((2,)))\n",
    "x = tf.random.uniform((2, 2))\n",
    "with tf.GradientTape() as tape:\n",
    "    y = tf.matmul(x, W) + b\n",
    "grad_of_y_wrt_W_and_b = tape.gradient(y, [W, b])\n"
   ]
  },
  {
   "cell_type": "code",
   "execution_count": 93,
   "id": "2bb6f48f-d7e8-4578-bae9-a047565cad00",
   "metadata": {},
   "outputs": [
    {
     "data": {
      "text/plain": [
       "[<tf.Tensor: shape=(2, 2), dtype=float32, numpy=\n",
       " array([[1.027354 , 1.027354 ],\n",
       "        [1.7830657, 1.7830657]], dtype=float32)>,\n",
       " <tf.Tensor: shape=(2,), dtype=float32, numpy=array([2., 2.], dtype=float32)>]"
      ]
     },
     "execution_count": 93,
     "metadata": {},
     "output_type": "execute_result"
    }
   ],
   "source": [
    "grad_of_y_wrt_W_and_b"
   ]
  },
  {
   "cell_type": "code",
   "execution_count": 95,
   "id": "257e49ed-9aed-4e93-a484-437b58d57983",
   "metadata": {},
   "outputs": [
    {
     "data": {
      "text/plain": [
       "<tf.Variable 'Variable:0' shape=(2, 2) dtype=float32, numpy=\n",
       "array([[0.4229852 , 0.4681096 ],\n",
       "       [0.46051216, 0.57734275]], dtype=float32)>"
      ]
     },
     "execution_count": 95,
     "metadata": {},
     "output_type": "execute_result"
    }
   ],
   "source": [
    "W"
   ]
  },
  {
   "cell_type": "code",
   "execution_count": 96,
   "id": "4252b429-56f7-4c57-b273-349cdf89eaad",
   "metadata": {},
   "outputs": [
    {
     "data": {
      "text/plain": [
       "<tf.Variable 'Variable:0' shape=(2,) dtype=float32, numpy=array([0., 0.], dtype=float32)>"
      ]
     },
     "execution_count": 96,
     "metadata": {},
     "output_type": "execute_result"
    }
   ],
   "source": [
    "b"
   ]
  },
  {
   "cell_type": "code",
   "execution_count": 97,
   "id": "a4c28d77-5af1-4d0b-9c62-f0cf42f66bd9",
   "metadata": {},
   "outputs": [
    {
     "data": {
      "text/plain": [
       "<tf.Tensor: shape=(2, 2), dtype=float32, numpy=\n",
       "array([[0.59157264, 0.89064825],\n",
       "       [0.43578136, 0.89241743]], dtype=float32)>"
      ]
     },
     "execution_count": 97,
     "metadata": {},
     "output_type": "execute_result"
    }
   ],
   "source": [
    "x"
   ]
  },
  {
   "cell_type": "markdown",
   "id": "93424423-4a4f-4df1-bd74-fce9cdb25371",
   "metadata": {},
   "source": [
    "## First_Example from scratch:"
   ]
  },
  {
   "cell_type": "code",
   "execution_count": 217,
   "id": "87fe7646-0c70-43e7-ad26-2d8d02eb2487",
   "metadata": {},
   "outputs": [],
   "source": [
    "import tensorflow as tf\n",
    "\n",
    "class NaiveDense:\n",
    "    def __init__(self, input_size, output_size, activation):\n",
    "        self.activation = activation\n",
    "\n",
    "        w_shape = (input_size, output_size)\n",
    "        w_initial_value = tf.random.uniform(w_shape, minval=0, maxval=1e-1)\n",
    "        self.W = tf.Variable(w_initial_value)\n",
    "\n",
    "        b_shape = (output_size,)\n",
    "        b_initial_value = tf.zeros(b_shape)\n",
    "        self.b = tf.Variable(b_initial_value)\n",
    "\n",
    "    def __call__(self, inputs):\n",
    "        return self.activation(tf.matmul(inputs, self.W) + self.b)\n",
    "\n",
    "    @property\n",
    "    def weights(self):\n",
    "        return [self.W, self.b]"
   ]
  },
  {
   "cell_type": "code",
   "execution_count": 218,
   "id": "03f1bbcf-87f2-40fc-9071-b7ecd8894401",
   "metadata": {},
   "outputs": [],
   "source": [
    "class NaiveSequential:\n",
    "    def __init__(self, layers):\n",
    "        self.layers = layers\n",
    "\n",
    "    def __call__(self, inputs):\n",
    "        x = inputs\n",
    "        for layer in self.layers:\n",
    "           x = layer(x)\n",
    "        return x\n",
    "\n",
    "    @property\n",
    "    def weights(self):\n",
    "       weights = []\n",
    "       for layer in self.layers:\n",
    "           weights += layer.weights\n",
    "       return weights"
   ]
  },
  {
   "cell_type": "code",
   "execution_count": 219,
   "id": "d6c028cc-796f-4086-b56f-be03c47d6181",
   "metadata": {},
   "outputs": [],
   "source": [
    "model = NaiveSequential([\n",
    "    NaiveDense(input_size=28 * 28, output_size=512, activation=tf.nn.relu),\n",
    "    NaiveDense(input_size=512, output_size=10, activation=tf.nn.softmax)\n",
    "])\n",
    "assert len(model.weights) == 4"
   ]
  },
  {
   "cell_type": "code",
   "execution_count": 208,
   "id": "bcda66bf-5afa-4f81-af0c-f616bc1c3d43",
   "metadata": {},
   "outputs": [],
   "source": []
  },
  {
   "cell_type": "code",
   "execution_count": 220,
   "id": "e6b78ffe-6d3e-42d3-ac98-d036ff42fcb4",
   "metadata": {},
   "outputs": [],
   "source": [
    "import math\n",
    "\n",
    "class BatchGenerator:\n",
    "    def __init__(self, images, labels, batch_size=128):\n",
    "        assert len(images) == len(labels)\n",
    "        self.index = 0\n",
    "        self.images = images\n",
    "        self.labels = labels\n",
    "        self.batch_size = batch_size\n",
    "        self.num_batches = math.ceil(len(images) / batch_size)\n",
    "\n",
    "    def next(self):\n",
    "        images = self.images[self.index : self.index + self.batch_size]\n",
    "        labels = self.labels[self.index : self.index + self.batch_size]\n",
    "        self.index += self.batch_size\n",
    "        return images, labels\n"
   ]
  },
  {
   "cell_type": "code",
   "execution_count": 221,
   "id": "1f332ba6-b856-4f83-8f5f-d01c1ac481a4",
   "metadata": {},
   "outputs": [],
   "source": [
    "def one_training_step(model, images_batch, labels_batch):\n",
    "    with tf.GradientTape() as tape:\n",
    "        predictions = model(images_batch)\n",
    "        per_sample_losses = tf.keras.losses.sparse_categorical_crossentropy(\n",
    "            labels_batch, predictions)\n",
    "        average_loss = tf.reduce_mean(per_sample_losses)\n",
    "    gradients = tape.gradient(average_loss, model.weights)\n",
    "    update_weights(gradients, model.weights)\n",
    "    return average_loss"
   ]
  },
  {
   "cell_type": "code",
   "execution_count": 222,
   "id": "8b8acdbb-6d4a-40b0-800f-614483297938",
   "metadata": {},
   "outputs": [],
   "source": [
    "learning_rate = 1e-3\n",
    "\n",
    "def update_weights(gradients, weights):\n",
    "    for g, w in zip(gradients, weights):\n",
    "        w.assign_sub(g * learning_rate)\n"
   ]
  },
  {
   "cell_type": "code",
   "execution_count": 223,
   "id": "ff8ba832-954d-465b-96c9-92cfea6b00fe",
   "metadata": {},
   "outputs": [],
   "source": [
    "from tensorflow.keras import optimizers\n",
    "\n",
    "optimizer = optimizers.SGD(learning_rate=1e-3)\n",
    "\n",
    "def update_weights(gradients, weights):\n",
    "    optimizer.apply_gradients(zip(gradients, weights))"
   ]
  },
  {
   "cell_type": "code",
   "execution_count": null,
   "id": "ec47ffb2-a212-425c-9b29-88144941526d",
   "metadata": {},
   "outputs": [],
   "source": []
  },
  {
   "cell_type": "code",
   "execution_count": 225,
   "id": "7f1a69c0-ed4e-4692-8586-314abf5737af",
   "metadata": {},
   "outputs": [],
   "source": [
    "def fit(model, images, labels, epochs, batch_size=128):\n",
    "    for epoch_counter in range(epochs):\n",
    "        print(f\"Epoch {epoch_counter}\")\n",
    "        batch_generator = BatchGenerator(images, labels)\n",
    "        for batch_counter in range(batch_generator.num_batches):\n",
    "            images_batch, labels_batch = batch_generator.next()\n",
    "            loss = one_training_step(model, images_batch, labels_batch)\n",
    "            if batch_counter % 100 == 0:\n",
    "                print(f\"loss at batch {batch_counter}: {loss:.2f}\")\n"
   ]
  },
  {
   "cell_type": "code",
   "execution_count": 226,
   "id": "1f1adab3-cef9-45c3-9ffe-0a51bef73e2c",
   "metadata": {
    "scrolled": true
   },
   "outputs": [
    {
     "name": "stdout",
     "output_type": "stream",
     "text": [
      "Epoch 0\n",
      "loss at batch 0: 4.36\n",
      "loss at batch 100: 2.20\n",
      "loss at batch 200: 2.18\n",
      "loss at batch 300: 2.06\n",
      "loss at batch 400: 2.17\n",
      "Epoch 1\n",
      "loss at batch 0: 1.88\n",
      "loss at batch 100: 1.84\n",
      "loss at batch 200: 1.80\n",
      "loss at batch 300: 1.68\n",
      "loss at batch 400: 1.78\n",
      "Epoch 2\n",
      "loss at batch 0: 1.56\n",
      "loss at batch 100: 1.54\n",
      "loss at batch 200: 1.48\n",
      "loss at batch 300: 1.40\n",
      "loss at batch 400: 1.46\n",
      "Epoch 3\n",
      "loss at batch 0: 1.30\n",
      "loss at batch 100: 1.31\n",
      "loss at batch 200: 1.22\n",
      "loss at batch 300: 1.19\n",
      "loss at batch 400: 1.24\n",
      "Epoch 4\n",
      "loss at batch 0: 1.11\n",
      "loss at batch 100: 1.13\n",
      "loss at batch 200: 1.04\n",
      "loss at batch 300: 1.04\n",
      "loss at batch 400: 1.08\n",
      "Epoch 5\n",
      "loss at batch 0: 0.97\n",
      "loss at batch 100: 1.00\n",
      "loss at batch 200: 0.90\n",
      "loss at batch 300: 0.92\n",
      "loss at batch 400: 0.97\n",
      "Epoch 6\n",
      "loss at batch 0: 0.86\n",
      "loss at batch 100: 0.90\n",
      "loss at batch 200: 0.80\n",
      "loss at batch 300: 0.84\n",
      "loss at batch 400: 0.89\n",
      "Epoch 7\n",
      "loss at batch 0: 0.79\n",
      "loss at batch 100: 0.81\n",
      "loss at batch 200: 0.73\n",
      "loss at batch 300: 0.77\n",
      "loss at batch 400: 0.82\n",
      "Epoch 8\n",
      "loss at batch 0: 0.72\n",
      "loss at batch 100: 0.75\n",
      "loss at batch 200: 0.67\n",
      "loss at batch 300: 0.72\n",
      "loss at batch 400: 0.77\n",
      "Epoch 9\n",
      "loss at batch 0: 0.68\n",
      "loss at batch 100: 0.70\n",
      "loss at batch 200: 0.62\n",
      "loss at batch 300: 0.67\n",
      "loss at batch 400: 0.73\n"
     ]
    }
   ],
   "source": [
    "from tensorflow.keras.datasets import mnist\n",
    "(train_images, train_labels), (test_images, test_labels) = mnist.load_data()\n",
    "\n",
    "train_images = train_images.reshape((60000, 28 * 28))\n",
    "train_images = train_images.astype(\"float32\") / 255\n",
    "test_images = test_images.reshape((10000, 28 * 28))\n",
    "test_images = test_images.astype(\"float32\") / 255\n",
    "\n",
    "fit(model, train_images, train_labels, epochs=10, batch_size=128)"
   ]
  },
  {
   "cell_type": "code",
   "execution_count": 227,
   "id": "c8396fab-3799-4afd-a4ed-8c4c0fab861f",
   "metadata": {},
   "outputs": [
    {
     "name": "stdout",
     "output_type": "stream",
     "text": [
      "accuracy: 0.82\n"
     ]
    }
   ],
   "source": [
    "predictions = model(test_images)\n",
    "predictions = predictions.numpy()\n",
    "predicted_labels = np.argmax(predictions, axis=1)\n",
    "matches = predicted_labels == test_labels\n",
    "print(f\"accuracy: {matches.mean():.2f}\")"
   ]
  },
  {
   "cell_type": "code",
   "execution_count": null,
   "id": "443ce6b3-6737-4c97-a04f-5915bf639adb",
   "metadata": {},
   "outputs": [],
   "source": []
  }
 ],
 "metadata": {
  "kernelspec": {
   "display_name": "Python 3 (ipykernel)",
   "language": "python",
   "name": "python3"
  },
  "language_info": {
   "codemirror_mode": {
    "name": "ipython",
    "version": 3
   },
   "file_extension": ".py",
   "mimetype": "text/x-python",
   "name": "python",
   "nbconvert_exporter": "python",
   "pygments_lexer": "ipython3",
   "version": "3.11.5"
  }
 },
 "nbformat": 4,
 "nbformat_minor": 5
}
